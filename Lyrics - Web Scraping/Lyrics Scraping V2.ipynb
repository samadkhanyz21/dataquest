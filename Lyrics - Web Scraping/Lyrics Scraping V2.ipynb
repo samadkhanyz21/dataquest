{
 "cells": [
  {
   "cell_type": "code",
   "execution_count": 13,
   "id": "93269c3a",
   "metadata": {},
   "outputs": [],
   "source": [
    "import random\n",
    "import requests\n",
    "from bs4 import BeautifulSoup as bs"
   ]
  },
  {
   "cell_type": "code",
   "execution_count": 14,
   "id": "2dfbfc33",
   "metadata": {},
   "outputs": [
    {
     "data": {
      "text/plain": [
       "200"
      ]
     },
     "execution_count": 14,
     "metadata": {},
     "output_type": "execute_result"
    }
   ],
   "source": [
    "header = {'User-Agent':'Mozilla/5.0 (X11; Ubuntu; Linux x86_64) AppleWebKit/537.36 (KHTML, like Gecko) Chrome/55.0.2919.83 Safari/537.36'}\n",
    "url = 'https://www.azlyrics.com/s/shooterjennings.html'\n",
    "r = requests.get(url)\n",
    "r.status_code"
   ]
  },
  {
   "cell_type": "code",
   "execution_count": 15,
   "id": "9eb12c3a",
   "metadata": {},
   "outputs": [],
   "source": [
    "soup = bs(r.text, 'lxml')\n",
    "songs = soup.find_all(class_=\"listalbum-item\")\n",
    "\n",
    "# Extracting links\n",
    "urls = []\n",
    "\n",
    "for s in songs:\n",
    "    urls.append(s.find('a'))"
   ]
  },
  {
   "cell_type": "code",
   "execution_count": 16,
   "id": "4cc391fe",
   "metadata": {},
   "outputs": [
    {
     "name": "stdout",
     "output_type": "stream",
     "text": [
      "Total 109 links\n"
     ]
    }
   ],
   "source": [
    "# for i in range(len(urls)):\n",
    "#     if i != 79:\n",
    "#             print(i)\n",
    "\n",
    "print(\"Total 109 links\") "
   ]
  },
  {
   "cell_type": "code",
   "execution_count": 17,
   "id": "f77d9c10",
   "metadata": {},
   "outputs": [],
   "source": [
    "hyperlinks = []\n",
    "# Extracting hyperlink\n",
    "for i in range(len(urls)):\n",
    "    if i != 79:\n",
    "        urls[i]['href'] = 'https://www.azlyrics.com/' + urls[i]['href']\n",
    "        hyperlinks.append(urls[i]['href'])"
   ]
  },
  {
   "cell_type": "code",
   "execution_count": 19,
   "id": "98a669bb",
   "metadata": {
    "scrolled": false
   },
   "outputs": [
    {
     "data": {
      "text/plain": [
       "['Over a cocaine rainbow, the world is at her command',\n",
       " 'Over a cocaine rainbow, the world is at her command',\n",
       " 'And just like Judas, in a pocket she hides her right hand',\n",
       " \"Behind the rhinestone curtain, the charlatan's vines and her muse\",\n",
       " \"Behind the rhinestone curtain, the charlatan's vines and her muse\",\n",
       " 'Be careful of a woman who sees her future in you',\n",
       " 'And even if the sun and the moon never shone',\n",
       " 'Love would be the brightest light in my home',\n",
       " \"It's time for you to go out and make some new memories\",\n",
       " 'Of your own',\n",
       " 'You can dig up every bone',\n",
       " 'Momma, come on',\n",
       " 'Leave those memories alone',\n",
       " \"It's been a long time sugar and I'm sure glad to see your face\",\n",
       " \"Yeah, it's been a long time sugar and I'm sure glad to see your face\",\n",
       " 'Outside, out in the wilderness, all I need is a taste',\n",
       " 'Oh, and the colonel was tall and he always wore his hat and shades',\n",
       " 'Yeah, well the colonel and he always wore his hat and shades',\n",
       " 'Wore his heart like a diamond, rolled off on the ace of spades, yeah',\n",
       " 'And even if the sun and the moon never shone',\n",
       " 'Love would be the brightest light in our home',\n",
       " \"It's time for you to go out and make some new memories\",\n",
       " 'Of your own',\n",
       " 'You can dig up every bone',\n",
       " 'Of a rolling stone',\n",
       " 'Yeah, you can dig up every bone',\n",
       " 'But momma, come on',\n",
       " 'Leave those memories alone',\n",
       " 'I miss you, brother',\n",
       " \"Sometimes it's so hard\",\n",
       " \"Will they remember the words to my songs when I'm dead and gone?\",\n",
       " \"Will they remember the words to my songs when I'm dead and gone?\",\n",
       " \"While I'm here, I can't remember the words to my own songs\",\n",
       " ' Submit Corrections',\n",
       " 'Writer(s): Shooter Jennings',\n",
       " 'AZLyrics',\n",
       " 'S',\n",
       " 'Shooter Jennings Lyrics',\n",
       " 'You May Also Like',\n",
       " 'Guy Clark - \"Worry B Gone\" Gimme just one more puff Of that worry b gone',\n",
       " \"I'm planning on feelin' much better Before too long\",\n",
       " 'I gotta world of trouble I need to forget',\n",
       " \"I'm on my way But I ain't there yet\",\n",
       " 'Gimme just one more...',\n",
       " 'Steve Earle & The Dukes - \"So You Wannabe An Outlaw\" So you wanna be an outlaw, better take it from me',\n",
       " \"Living on the highway, ain't everything it's suppose to be\",\n",
       " 'Everybody reckons that they wanna be free',\n",
       " \"Ain't no body wants to be alone\",\n",
       " 'Stumbling in...',\n",
       " 'Merle Haggard - \"I\\'m A White Boy\" Some folks call me a ramblin\\' man',\n",
       " \"I do a lotta thumbin' and a kickin' cans\",\n",
       " \"And it wouldn't do an ounce of good to call my name\",\n",
       " \"'Cause daddy's name wasn't Willy Woodrow\",\n",
       " \"And I wasn't born and raised in...\",\n",
       " 'Jamey Johnson - \"Set \\'Em Up Joe\" They got a vintage Victrola 1951']"
      ]
     },
     "execution_count": 19,
     "metadata": {},
     "output_type": "execute_result"
    }
   ],
   "source": [
    "# Choose a song randomly\n",
    "choose_random_song = random.choice(urls)['href']\n",
    "soup_1 = bs(requests.get(choose_random_song).text, 'lxml')\n",
    "lyrics = soup_1.find(class_=\"col-xs-12 col-lg-8 text-center\")\n",
    "song_lines = lyrics.text.strip('\\n').split('\\r')[1].split('\\n')\n",
    "song_lines = [line for line in song_lines if line != '']\n",
    "song_lines"
   ]
  },
  {
   "cell_type": "code",
   "execution_count": 11,
   "id": "cc9a1854",
   "metadata": {},
   "outputs": [
    {
     "ename": "AttributeError",
     "evalue": "'NoneType' object has no attribute 'find'",
     "output_type": "error",
     "traceback": [
      "\u001b[0;31m---------------------------------------------------------------------------\u001b[0m",
      "\u001b[0;31mAttributeError\u001b[0m                            Traceback (most recent call last)",
      "Cell \u001b[0;32mIn[11], line 2\u001b[0m\n\u001b[1;32m      1\u001b[0m \u001b[38;5;66;03m# Removing spaces in between lines\u001b[39;00m\n\u001b[0;32m----> 2\u001b[0m lyrics \u001b[38;5;241m=\u001b[39m lyrics[\u001b[43mlyrics\u001b[49m\u001b[38;5;241;43m.\u001b[39;49m\u001b[43mfind\u001b[49m(\u001b[38;5;124m'\u001b[39m\u001b[38;5;130;01m\\n\u001b[39;00m\u001b[38;5;130;01m\\n\u001b[39;00m\u001b[38;5;130;01m\\n\u001b[39;00m\u001b[38;5;130;01m\\n\u001b[39;00m\u001b[38;5;124m'\u001b[39m)\u001b[38;5;241m+\u001b[39m\u001b[38;5;241m5\u001b[39m:lyrics\u001b[38;5;241m.\u001b[39mfind(\u001b[38;5;124m'\u001b[39m\u001b[38;5;124mSubmit Corrections\u001b[39m\u001b[38;5;124m'\u001b[39m)]\n\u001b[1;32m      3\u001b[0m lyrics \u001b[38;5;241m=\u001b[39m lyrics\u001b[38;5;241m.\u001b[39msplit()\n\u001b[1;32m      5\u001b[0m \u001b[38;5;28mprint\u001b[39m(lyrics)\n",
      "\u001b[0;31mAttributeError\u001b[0m: 'NoneType' object has no attribute 'find'"
     ]
    }
   ],
   "source": [
    "# Removing spaces in between lines\n",
    "lyrics = lyrics[lyrics.find('\\n\\n\\n\\n')+5:lyrics.find('Submit Corrections')]\n",
    "lyrics = lyrics.split()\n",
    "  \n",
    "print(lyrics)"
   ]
  },
  {
   "cell_type": "code",
   "execution_count": null,
   "id": "9aa0f54c",
   "metadata": {},
   "outputs": [],
   "source": [
    "list_of_songs = []\n",
    "\n",
    "if song_lines not in list_of_songs:\n",
    "    list_of_songs.append(song_lines)   \n",
    "\n",
    "print(list_of_songs)"
   ]
  },
  {
   "cell_type": "code",
   "execution_count": null,
   "id": "65bf34b8",
   "metadata": {},
   "outputs": [],
   "source": [
    "# list_of_songs = []\n",
    "# attempts = 0 \n",
    "\n",
    "# while list_of_songs != lyrics:\n",
    "#     list_of_songs.append(lyrics)\n",
    "#     if list_of_songs == lyrics:\n",
    "        "
   ]
  },
  {
   "cell_type": "code",
   "execution_count": null,
   "id": "633fb498",
   "metadata": {},
   "outputs": [],
   "source": [
    "ly"
   ]
  },
  {
   "cell_type": "code",
   "execution_count": null,
   "id": "e513f38c",
   "metadata": {},
   "outputs": [],
   "source": [
    "urls"
   ]
  },
  {
   "cell_type": "code",
   "execution_count": null,
   "id": "cec3f836",
   "metadata": {},
   "outputs": [],
   "source": [
    "song_lines = lyrics.text.strip('\\n').split('\\r')[1].split('\\n')\n",
    "song_lines = [line for line in song_lines if line != '']\n",
    "song_lines"
   ]
  },
  {
   "cell_type": "code",
   "execution_count": null,
   "id": "36a3d19e",
   "metadata": {},
   "outputs": [],
   "source": []
  },
  {
   "cell_type": "code",
   "execution_count": null,
   "id": "e0e37496",
   "metadata": {},
   "outputs": [],
   "source": []
  },
  {
   "cell_type": "code",
   "execution_count": null,
   "id": "ba37f8ee",
   "metadata": {},
   "outputs": [],
   "source": []
  },
  {
   "cell_type": "code",
   "execution_count": null,
   "id": "50712861",
   "metadata": {},
   "outputs": [],
   "source": []
  },
  {
   "cell_type": "code",
   "execution_count": null,
   "id": "3d57e323",
   "metadata": {},
   "outputs": [],
   "source": []
  },
  {
   "cell_type": "code",
   "execution_count": null,
   "id": "2c302467",
   "metadata": {},
   "outputs": [],
   "source": []
  },
  {
   "cell_type": "code",
   "execution_count": null,
   "id": "e942d84b",
   "metadata": {},
   "outputs": [],
   "source": []
  },
  {
   "cell_type": "code",
   "execution_count": null,
   "id": "3b512479",
   "metadata": {},
   "outputs": [],
   "source": []
  },
  {
   "cell_type": "code",
   "execution_count": null,
   "id": "817f5f81",
   "metadata": {},
   "outputs": [],
   "source": []
  },
  {
   "cell_type": "code",
   "execution_count": null,
   "id": "4d4829cf",
   "metadata": {},
   "outputs": [],
   "source": []
  },
  {
   "cell_type": "code",
   "execution_count": null,
   "id": "4297e8b5",
   "metadata": {},
   "outputs": [],
   "source": []
  },
  {
   "cell_type": "code",
   "execution_count": null,
   "id": "7dc86875",
   "metadata": {},
   "outputs": [],
   "source": []
  },
  {
   "cell_type": "code",
   "execution_count": null,
   "id": "ddcbe9ed",
   "metadata": {},
   "outputs": [],
   "source": []
  },
  {
   "cell_type": "code",
   "execution_count": null,
   "id": "19086c2c",
   "metadata": {},
   "outputs": [],
   "source": []
  },
  {
   "cell_type": "code",
   "execution_count": null,
   "id": "1f2cf6f6",
   "metadata": {},
   "outputs": [],
   "source": []
  },
  {
   "cell_type": "code",
   "execution_count": null,
   "id": "41b20ed4",
   "metadata": {},
   "outputs": [],
   "source": []
  },
  {
   "cell_type": "code",
   "execution_count": null,
   "id": "bf960d8e",
   "metadata": {},
   "outputs": [],
   "source": []
  },
  {
   "cell_type": "code",
   "execution_count": null,
   "id": "b33b4b63",
   "metadata": {},
   "outputs": [],
   "source": []
  },
  {
   "cell_type": "code",
   "execution_count": null,
   "id": "5b1b3940",
   "metadata": {},
   "outputs": [],
   "source": []
  },
  {
   "cell_type": "code",
   "execution_count": null,
   "id": "607c55a2",
   "metadata": {},
   "outputs": [],
   "source": []
  },
  {
   "cell_type": "code",
   "execution_count": null,
   "id": "b9eb7665",
   "metadata": {},
   "outputs": [],
   "source": []
  },
  {
   "cell_type": "code",
   "execution_count": null,
   "id": "1b735074",
   "metadata": {},
   "outputs": [],
   "source": []
  },
  {
   "cell_type": "code",
   "execution_count": null,
   "id": "e04ba174",
   "metadata": {},
   "outputs": [],
   "source": []
  },
  {
   "cell_type": "code",
   "execution_count": null,
   "id": "bbfcbe48",
   "metadata": {},
   "outputs": [],
   "source": []
  },
  {
   "cell_type": "code",
   "execution_count": null,
   "id": "fb98f19c",
   "metadata": {},
   "outputs": [],
   "source": []
  },
  {
   "cell_type": "code",
   "execution_count": null,
   "id": "a5328f2e",
   "metadata": {},
   "outputs": [],
   "source": []
  },
  {
   "cell_type": "code",
   "execution_count": null,
   "id": "8e32a581",
   "metadata": {},
   "outputs": [],
   "source": []
  },
  {
   "cell_type": "code",
   "execution_count": null,
   "id": "3e895224",
   "metadata": {},
   "outputs": [],
   "source": []
  }
 ],
 "metadata": {
  "kernelspec": {
   "display_name": "Python 3 (ipykernel)",
   "language": "python",
   "name": "python3"
  },
  "language_info": {
   "codemirror_mode": {
    "name": "ipython",
    "version": 3
   },
   "file_extension": ".py",
   "mimetype": "text/x-python",
   "name": "python",
   "nbconvert_exporter": "python",
   "pygments_lexer": "ipython3",
   "version": "3.11.0"
  }
 },
 "nbformat": 4,
 "nbformat_minor": 5
}
