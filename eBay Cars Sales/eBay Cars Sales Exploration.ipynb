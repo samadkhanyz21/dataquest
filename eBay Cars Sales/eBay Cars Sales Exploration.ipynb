{
 "cells": [
  {
   "cell_type": "markdown",
   "id": "92ccda01",
   "metadata": {},
   "source": [
    "We will be working on a dataset of used cars from eBay Kleinanzeigen, a classifieds section of the German eBay website.\n",
    "The data dictionary provided with data is as follows:\n",
    "\n",
    "   - `dateCrawled` - When this ad was first crawled. All field-values are taken from this date.\n",
    "   - `name` - Name of the car.\n",
    "   - `seller` - Whether the seller is private or a dealer.\n",
    "   - `offerTyp`e - The type of listing\n",
    "   - `price` - The price on the ad to sell the car.\n",
    "   - `abtest` - Whether the listing is included in an A/B test.\n",
    "   - `vehicleType` - The vehicle Type.\n",
    "   - `yearOfRegistration` - The year in which which year the car was first registered.\n",
    "   - `gearbox` - The transmission type.\n",
    "   - `powerPS` - The power of the car in PS.\n",
    "   - `model` - The car model name.\n",
    "   - `kilometer` - How many kilometers the car has driven.\n",
    "   - `monthOfRegistration` - The month in which which year the car was first registered.\n",
    "   - `fuelType` - What type of fuel the car uses.\n",
    "   - `brand` - The brand of the car.\n",
    "   - `notRepairedDamage` - If the car has a damage which is not yet repaired.\n",
    "   - `dateCreated` - The date on which the eBay listing was created.\n",
    "   - `nrOfPictures` - The number of pictures in the ad.\n",
    "   - `postalCode`- The postal code for the location of the vehicle.\n",
    "   - `lastSeenOnline` - When the crawler saw this ad last online.\n",
    "\n",
    "The aim of this project is to clean the data and analyze the included used car listings."
   ]
  },
  {
   "cell_type": "code",
   "execution_count": 1,
   "id": "46c85397",
   "metadata": {},
   "outputs": [],
   "source": [
    "import numpy as np\n",
    "import pandas as pd\n",
    "import warnings\n",
    "warnings.filterwarnings('ignore')"
   ]
  },
  {
   "cell_type": "code",
   "execution_count": 2,
   "id": "d422e29c",
   "metadata": {},
   "outputs": [
    {
     "data": {
      "text/html": [
       "<div>\n",
       "<style scoped>\n",
       "    .dataframe tbody tr th:only-of-type {\n",
       "        vertical-align: middle;\n",
       "    }\n",
       "\n",
       "    .dataframe tbody tr th {\n",
       "        vertical-align: top;\n",
       "    }\n",
       "\n",
       "    .dataframe thead th {\n",
       "        text-align: right;\n",
       "    }\n",
       "</style>\n",
       "<table border=\"1\" class=\"dataframe\">\n",
       "  <thead>\n",
       "    <tr style=\"text-align: right;\">\n",
       "      <th></th>\n",
       "      <th>dateCrawled</th>\n",
       "      <th>name</th>\n",
       "      <th>seller</th>\n",
       "      <th>offerType</th>\n",
       "      <th>price</th>\n",
       "      <th>abtest</th>\n",
       "      <th>vehicleType</th>\n",
       "      <th>yearOfRegistration</th>\n",
       "      <th>gearbox</th>\n",
       "      <th>powerPS</th>\n",
       "      <th>model</th>\n",
       "      <th>kilometer</th>\n",
       "      <th>monthOfRegistration</th>\n",
       "      <th>fuelType</th>\n",
       "      <th>brand</th>\n",
       "      <th>notRepairedDamage</th>\n",
       "      <th>dateCreated</th>\n",
       "      <th>nrOfPictures</th>\n",
       "      <th>postalCode</th>\n",
       "      <th>lastSeen</th>\n",
       "    </tr>\n",
       "  </thead>\n",
       "  <tbody>\n",
       "    <tr>\n",
       "      <th>0</th>\n",
       "      <td>2016-03-24 11:52:17</td>\n",
       "      <td>Golf_3_1.6</td>\n",
       "      <td>privat</td>\n",
       "      <td>Angebot</td>\n",
       "      <td>480</td>\n",
       "      <td>test</td>\n",
       "      <td>NaN</td>\n",
       "      <td>1993</td>\n",
       "      <td>manuell</td>\n",
       "      <td>0</td>\n",
       "      <td>golf</td>\n",
       "      <td>150000</td>\n",
       "      <td>0</td>\n",
       "      <td>benzin</td>\n",
       "      <td>volkswagen</td>\n",
       "      <td>NaN</td>\n",
       "      <td>2016-03-24 00:00:00</td>\n",
       "      <td>0</td>\n",
       "      <td>70435</td>\n",
       "      <td>2016-04-07 03:16:57</td>\n",
       "    </tr>\n",
       "    <tr>\n",
       "      <th>1</th>\n",
       "      <td>2016-03-24 10:58:45</td>\n",
       "      <td>A5_Sportback_2.7_Tdi</td>\n",
       "      <td>privat</td>\n",
       "      <td>Angebot</td>\n",
       "      <td>18300</td>\n",
       "      <td>test</td>\n",
       "      <td>coupe</td>\n",
       "      <td>2011</td>\n",
       "      <td>manuell</td>\n",
       "      <td>190</td>\n",
       "      <td>NaN</td>\n",
       "      <td>125000</td>\n",
       "      <td>5</td>\n",
       "      <td>diesel</td>\n",
       "      <td>audi</td>\n",
       "      <td>ja</td>\n",
       "      <td>2016-03-24 00:00:00</td>\n",
       "      <td>0</td>\n",
       "      <td>66954</td>\n",
       "      <td>2016-04-07 01:46:50</td>\n",
       "    </tr>\n",
       "    <tr>\n",
       "      <th>2</th>\n",
       "      <td>2016-03-14 12:52:21</td>\n",
       "      <td>Jeep_Grand_Cherokee_\"Overland\"</td>\n",
       "      <td>privat</td>\n",
       "      <td>Angebot</td>\n",
       "      <td>9800</td>\n",
       "      <td>test</td>\n",
       "      <td>suv</td>\n",
       "      <td>2004</td>\n",
       "      <td>automatik</td>\n",
       "      <td>163</td>\n",
       "      <td>grand</td>\n",
       "      <td>125000</td>\n",
       "      <td>8</td>\n",
       "      <td>diesel</td>\n",
       "      <td>jeep</td>\n",
       "      <td>NaN</td>\n",
       "      <td>2016-03-14 00:00:00</td>\n",
       "      <td>0</td>\n",
       "      <td>90480</td>\n",
       "      <td>2016-04-05 12:47:46</td>\n",
       "    </tr>\n",
       "  </tbody>\n",
       "</table>\n",
       "</div>"
      ],
      "text/plain": [
       "           dateCrawled                            name  seller offerType  \\\n",
       "0  2016-03-24 11:52:17                      Golf_3_1.6  privat   Angebot   \n",
       "1  2016-03-24 10:58:45            A5_Sportback_2.7_Tdi  privat   Angebot   \n",
       "2  2016-03-14 12:52:21  Jeep_Grand_Cherokee_\"Overland\"  privat   Angebot   \n",
       "\n",
       "   price abtest vehicleType  yearOfRegistration    gearbox  powerPS  model  \\\n",
       "0    480   test         NaN                1993    manuell        0   golf   \n",
       "1  18300   test       coupe                2011    manuell      190    NaN   \n",
       "2   9800   test         suv                2004  automatik      163  grand   \n",
       "\n",
       "   kilometer  monthOfRegistration fuelType       brand notRepairedDamage  \\\n",
       "0     150000                    0   benzin  volkswagen               NaN   \n",
       "1     125000                    5   diesel        audi                ja   \n",
       "2     125000                    8   diesel        jeep               NaN   \n",
       "\n",
       "           dateCreated  nrOfPictures  postalCode             lastSeen  \n",
       "0  2016-03-24 00:00:00             0       70435  2016-04-07 03:16:57  \n",
       "1  2016-03-24 00:00:00             0       66954  2016-04-07 01:46:50  \n",
       "2  2016-03-14 00:00:00             0       90480  2016-04-05 12:47:46  "
      ]
     },
     "execution_count": 2,
     "metadata": {},
     "output_type": "execute_result"
    }
   ],
   "source": [
    "autos = pd.read_csv(\"D:/Developer/Data Science/Projects/CSV files/autos.csv\", encoding = 'Latin-1')\n",
    "autos.head(3)"
   ]
  },
  {
   "cell_type": "markdown",
   "id": "75c2f9e6",
   "metadata": {},
   "source": [
    "### Cleaning Column Names"
   ]
  },
  {
   "cell_type": "code",
   "execution_count": 3,
   "id": "ab93525c",
   "metadata": {},
   "outputs": [
    {
     "data": {
      "text/plain": [
       "Index(['dateCrawled', 'name', 'seller', 'offerType', 'price', 'abtest',\n",
       "       'vehicleType', 'yearOfRegistration', 'gearbox', 'powerPS', 'model',\n",
       "       'kilometer', 'monthOfRegistration', 'fuelType', 'brand',\n",
       "       'notRepairedDamage', 'dateCreated', 'nrOfPictures', 'postalCode',\n",
       "       'lastSeen'],\n",
       "      dtype='object')"
      ]
     },
     "execution_count": 3,
     "metadata": {},
     "output_type": "execute_result"
    }
   ],
   "source": [
    "autos.columns"
   ]
  },
  {
   "cell_type": "code",
   "execution_count": 4,
   "id": "609c4552",
   "metadata": {},
   "outputs": [],
   "source": [
    "autos.columns = ['date_crawled', 'name', 'seller', 'offer_type', 'price', 'ab_test', 'vehicle_type', \n",
    "                 'registration_year', 'gearbox', 'power', 'model', 'odometer', 'registration_month', 'fuel_type', \n",
    "                 'brand', 'unrepaired_damage', 'date_created', 'number_pictures', 'postal_code','last_seen']"
   ]
  },
  {
   "cell_type": "code",
   "execution_count": 5,
   "id": "4c6c7013",
   "metadata": {},
   "outputs": [
    {
     "data": {
      "text/plain": [
       "371528"
      ]
     },
     "execution_count": 5,
     "metadata": {},
     "output_type": "execute_result"
    }
   ],
   "source": [
    "len(autos) #371528 rows imported"
   ]
  },
  {
   "cell_type": "code",
   "execution_count": 6,
   "id": "1b4790ad",
   "metadata": {},
   "outputs": [
    {
     "data": {
      "text/plain": [
       "20"
      ]
     },
     "execution_count": 6,
     "metadata": {},
     "output_type": "execute_result"
    }
   ],
   "source": [
    "len(autos.columns) #20 columns imported"
   ]
  },
  {
   "cell_type": "markdown",
   "id": "2e04feeb",
   "metadata": {},
   "source": [
    "### Renaming column"
   ]
  },
  {
   "cell_type": "code",
   "execution_count": 7,
   "id": "dedea12d",
   "metadata": {},
   "outputs": [],
   "source": [
    "autos.rename({'odometer':'odometer_km'}, axis = 1, inplace = True)"
   ]
  },
  {
   "cell_type": "markdown",
   "id": "0073c52f",
   "metadata": {},
   "source": [
    "### Changing Type"
   ]
  },
  {
   "cell_type": "code",
   "execution_count": 8,
   "id": "898423c5",
   "metadata": {},
   "outputs": [],
   "source": [
    "for col in ['date_crawled', 'date_created', 'last_seen']:\n",
    "    autos[col] = pd.to_datetime(autos[col])\n",
    "for col in ['name', 'seller', 'offer_type', 'ab_test', 'vehicle_type', 'gearbox', 'model', 'fuel_type', 'power']:\n",
    "    autos[col] = autos[col].astype('category')"
   ]
  },
  {
   "cell_type": "markdown",
   "id": "b908c34c",
   "metadata": {},
   "source": [
    "zfill consider whole postal code equal to zero rather than considering it as a some number "
   ]
  },
  {
   "cell_type": "code",
   "execution_count": 9,
   "id": "dd9ab10f",
   "metadata": {},
   "outputs": [],
   "source": [
    "autos['postal_code'] = autos['postal_code'].astype('str').str.zfill(5)\n",
    "autos['odometer_km'] = autos['odometer_km'].astype('float')\n",
    "autos['price'] = autos['price'].astype('float')"
   ]
  },
  {
   "cell_type": "markdown",
   "id": "0fe60702",
   "metadata": {},
   "source": [
    "### Initial Exploration and Cleaning"
   ]
  },
  {
   "cell_type": "code",
   "execution_count": 10,
   "id": "44bf2bef",
   "metadata": {},
   "outputs": [
    {
     "data": {
      "text/plain": [
       "array([nan, 'ja', 'nein'], dtype=object)"
      ]
     },
     "execution_count": 10,
     "metadata": {},
     "output_type": "execute_result"
    }
   ],
   "source": [
    "autos['unrepaired_damage'].unique()"
   ]
  },
  {
   "cell_type": "code",
   "execution_count": 11,
   "id": "4946a6ee",
   "metadata": {},
   "outputs": [
    {
     "data": {
      "text/plain": [
       "array([0], dtype=int64)"
      ]
     },
     "execution_count": 11,
     "metadata": {},
     "output_type": "execute_result"
    }
   ],
   "source": [
    "autos['number_pictures'].unique()"
   ]
  },
  {
   "cell_type": "code",
   "execution_count": 12,
   "id": "f99dcd6a",
   "metadata": {},
   "outputs": [
    {
     "data": {
      "text/plain": [
       "1"
      ]
     },
     "execution_count": 12,
     "metadata": {},
     "output_type": "execute_result"
    }
   ],
   "source": [
    "autos['number_pictures'].nunique()"
   ]
  },
  {
   "cell_type": "code",
   "execution_count": 13,
   "id": "da84768b",
   "metadata": {},
   "outputs": [],
   "source": [
    "autos.drop('number_pictures', axis = 1, inplace = True)"
   ]
  },
  {
   "cell_type": "code",
   "execution_count": 14,
   "id": "4911837f",
   "metadata": {},
   "outputs": [],
   "source": [
    "autos.drop('unrepaired_damage', axis = 1, inplace = True)"
   ]
  },
  {
   "cell_type": "code",
   "execution_count": 15,
   "id": "e0192b14",
   "metadata": {},
   "outputs": [],
   "source": [
    "autos.drop('offer_type', axis = 1, inplace = True)"
   ]
  },
  {
   "cell_type": "code",
   "execution_count": 16,
   "id": "a4510e53",
   "metadata": {},
   "outputs": [],
   "source": [
    "autos.drop('seller', axis = 1, inplace = True)"
   ]
  },
  {
   "cell_type": "code",
   "execution_count": 17,
   "id": "becf9b13",
   "metadata": {},
   "outputs": [
    {
     "data": {
      "text/html": [
       "<div>\n",
       "<style scoped>\n",
       "    .dataframe tbody tr th:only-of-type {\n",
       "        vertical-align: middle;\n",
       "    }\n",
       "\n",
       "    .dataframe tbody tr th {\n",
       "        vertical-align: top;\n",
       "    }\n",
       "\n",
       "    .dataframe thead th {\n",
       "        text-align: right;\n",
       "    }\n",
       "</style>\n",
       "<table border=\"1\" class=\"dataframe\">\n",
       "  <thead>\n",
       "    <tr style=\"text-align: right;\">\n",
       "      <th></th>\n",
       "      <th>date_crawled</th>\n",
       "      <th>name</th>\n",
       "      <th>price</th>\n",
       "      <th>ab_test</th>\n",
       "      <th>vehicle_type</th>\n",
       "      <th>registration_year</th>\n",
       "      <th>gearbox</th>\n",
       "      <th>power</th>\n",
       "      <th>model</th>\n",
       "      <th>odometer_km</th>\n",
       "      <th>registration_month</th>\n",
       "      <th>fuel_type</th>\n",
       "      <th>brand</th>\n",
       "      <th>date_created</th>\n",
       "      <th>postal_code</th>\n",
       "      <th>last_seen</th>\n",
       "    </tr>\n",
       "  </thead>\n",
       "  <tbody>\n",
       "    <tr>\n",
       "      <th>0</th>\n",
       "      <td>2016-03-24 11:52:17</td>\n",
       "      <td>Golf_3_1.6</td>\n",
       "      <td>480.0</td>\n",
       "      <td>test</td>\n",
       "      <td>NaN</td>\n",
       "      <td>1993</td>\n",
       "      <td>manuell</td>\n",
       "      <td>0</td>\n",
       "      <td>golf</td>\n",
       "      <td>150000.0</td>\n",
       "      <td>0</td>\n",
       "      <td>benzin</td>\n",
       "      <td>volkswagen</td>\n",
       "      <td>2016-03-24</td>\n",
       "      <td>70435</td>\n",
       "      <td>2016-04-07 03:16:57</td>\n",
       "    </tr>\n",
       "    <tr>\n",
       "      <th>1</th>\n",
       "      <td>2016-03-24 10:58:45</td>\n",
       "      <td>A5_Sportback_2.7_Tdi</td>\n",
       "      <td>18300.0</td>\n",
       "      <td>test</td>\n",
       "      <td>coupe</td>\n",
       "      <td>2011</td>\n",
       "      <td>manuell</td>\n",
       "      <td>190</td>\n",
       "      <td>NaN</td>\n",
       "      <td>125000.0</td>\n",
       "      <td>5</td>\n",
       "      <td>diesel</td>\n",
       "      <td>audi</td>\n",
       "      <td>2016-03-24</td>\n",
       "      <td>66954</td>\n",
       "      <td>2016-04-07 01:46:50</td>\n",
       "    </tr>\n",
       "    <tr>\n",
       "      <th>2</th>\n",
       "      <td>2016-03-14 12:52:21</td>\n",
       "      <td>Jeep_Grand_Cherokee_\"Overland\"</td>\n",
       "      <td>9800.0</td>\n",
       "      <td>test</td>\n",
       "      <td>suv</td>\n",
       "      <td>2004</td>\n",
       "      <td>automatik</td>\n",
       "      <td>163</td>\n",
       "      <td>grand</td>\n",
       "      <td>125000.0</td>\n",
       "      <td>8</td>\n",
       "      <td>diesel</td>\n",
       "      <td>jeep</td>\n",
       "      <td>2016-03-14</td>\n",
       "      <td>90480</td>\n",
       "      <td>2016-04-05 12:47:46</td>\n",
       "    </tr>\n",
       "  </tbody>\n",
       "</table>\n",
       "</div>"
      ],
      "text/plain": [
       "         date_crawled                            name    price ab_test  \\\n",
       "0 2016-03-24 11:52:17                      Golf_3_1.6    480.0    test   \n",
       "1 2016-03-24 10:58:45            A5_Sportback_2.7_Tdi  18300.0    test   \n",
       "2 2016-03-14 12:52:21  Jeep_Grand_Cherokee_\"Overland\"   9800.0    test   \n",
       "\n",
       "  vehicle_type  registration_year    gearbox power  model  odometer_km  \\\n",
       "0          NaN               1993    manuell     0   golf     150000.0   \n",
       "1        coupe               2011    manuell   190    NaN     125000.0   \n",
       "2          suv               2004  automatik   163  grand     125000.0   \n",
       "\n",
       "   registration_month fuel_type       brand date_created postal_code  \\\n",
       "0                   0    benzin  volkswagen   2016-03-24       70435   \n",
       "1                   5    diesel        audi   2016-03-24       66954   \n",
       "2                   8    diesel        jeep   2016-03-14       90480   \n",
       "\n",
       "            last_seen  \n",
       "0 2016-04-07 03:16:57  \n",
       "1 2016-04-07 01:46:50  \n",
       "2 2016-04-05 12:47:46  "
      ]
     },
     "execution_count": 17,
     "metadata": {},
     "output_type": "execute_result"
    }
   ],
   "source": [
    "autos.head(3)"
   ]
  },
  {
   "cell_type": "code",
   "execution_count": 18,
   "id": "54931172",
   "metadata": {},
   "outputs": [
    {
     "name": "stdout",
     "output_type": "stream",
     "text": [
      "<class 'pandas.core.frame.DataFrame'>\n",
      "RangeIndex: 371528 entries, 0 to 371527\n",
      "Data columns (total 16 columns):\n",
      " #   Column              Non-Null Count   Dtype         \n",
      "---  ------              --------------   -----         \n",
      " 0   date_crawled        371528 non-null  datetime64[ns]\n",
      " 1   name                371528 non-null  category      \n",
      " 2   price               371528 non-null  float64       \n",
      " 3   ab_test             371528 non-null  category      \n",
      " 4   vehicle_type        333659 non-null  category      \n",
      " 5   registration_year   371528 non-null  int64         \n",
      " 6   gearbox             351319 non-null  category      \n",
      " 7   power               371528 non-null  category      \n",
      " 8   model               351044 non-null  category      \n",
      " 9   odometer_km         371528 non-null  float64       \n",
      " 10  registration_month  371528 non-null  int64         \n",
      " 11  fuel_type           338142 non-null  category      \n",
      " 12  brand               371528 non-null  object        \n",
      " 13  date_created        371528 non-null  datetime64[ns]\n",
      " 14  postal_code         371528 non-null  object        \n",
      " 15  last_seen           371528 non-null  datetime64[ns]\n",
      "dtypes: category(7), datetime64[ns](3), float64(2), int64(2), object(2)\n",
      "memory usage: 39.7+ MB\n"
     ]
    }
   ],
   "source": [
    "autos.info()"
   ]
  },
  {
   "cell_type": "code",
   "execution_count": 19,
   "id": "3efed1d1",
   "metadata": {
    "scrolled": true
   },
   "outputs": [
    {
     "data": {
      "text/html": [
       "<div>\n",
       "<style scoped>\n",
       "    .dataframe tbody tr th:only-of-type {\n",
       "        vertical-align: middle;\n",
       "    }\n",
       "\n",
       "    .dataframe tbody tr th {\n",
       "        vertical-align: top;\n",
       "    }\n",
       "\n",
       "    .dataframe thead th {\n",
       "        text-align: right;\n",
       "    }\n",
       "</style>\n",
       "<table border=\"1\" class=\"dataframe\">\n",
       "  <thead>\n",
       "    <tr style=\"text-align: right;\">\n",
       "      <th></th>\n",
       "      <th>date_crawled</th>\n",
       "      <th>name</th>\n",
       "      <th>price</th>\n",
       "      <th>ab_test</th>\n",
       "      <th>vehicle_type</th>\n",
       "      <th>registration_year</th>\n",
       "      <th>gearbox</th>\n",
       "      <th>power</th>\n",
       "      <th>model</th>\n",
       "      <th>odometer_km</th>\n",
       "      <th>registration_month</th>\n",
       "      <th>fuel_type</th>\n",
       "      <th>brand</th>\n",
       "      <th>date_created</th>\n",
       "      <th>postal_code</th>\n",
       "      <th>last_seen</th>\n",
       "    </tr>\n",
       "  </thead>\n",
       "  <tbody>\n",
       "    <tr>\n",
       "      <th>count</th>\n",
       "      <td>371528</td>\n",
       "      <td>371528</td>\n",
       "      <td>3.715280e+05</td>\n",
       "      <td>371528</td>\n",
       "      <td>333659</td>\n",
       "      <td>371528.000000</td>\n",
       "      <td>351319</td>\n",
       "      <td>371528.0</td>\n",
       "      <td>351044</td>\n",
       "      <td>371528.000000</td>\n",
       "      <td>371528.000000</td>\n",
       "      <td>338142</td>\n",
       "      <td>371528</td>\n",
       "      <td>371528</td>\n",
       "      <td>371528</td>\n",
       "      <td>371528</td>\n",
       "    </tr>\n",
       "    <tr>\n",
       "      <th>unique</th>\n",
       "      <td>280500</td>\n",
       "      <td>233531</td>\n",
       "      <td>NaN</td>\n",
       "      <td>2</td>\n",
       "      <td>8</td>\n",
       "      <td>NaN</td>\n",
       "      <td>2</td>\n",
       "      <td>794.0</td>\n",
       "      <td>251</td>\n",
       "      <td>NaN</td>\n",
       "      <td>NaN</td>\n",
       "      <td>7</td>\n",
       "      <td>40</td>\n",
       "      <td>114</td>\n",
       "      <td>8150</td>\n",
       "      <td>182806</td>\n",
       "    </tr>\n",
       "    <tr>\n",
       "      <th>top</th>\n",
       "      <td>2016-03-24 14:49:47</td>\n",
       "      <td>Ford_Fiesta</td>\n",
       "      <td>NaN</td>\n",
       "      <td>test</td>\n",
       "      <td>limousine</td>\n",
       "      <td>NaN</td>\n",
       "      <td>manuell</td>\n",
       "      <td>0.0</td>\n",
       "      <td>golf</td>\n",
       "      <td>NaN</td>\n",
       "      <td>NaN</td>\n",
       "      <td>benzin</td>\n",
       "      <td>volkswagen</td>\n",
       "      <td>2016-04-03 00:00:00</td>\n",
       "      <td>10115</td>\n",
       "      <td>2016-04-06 13:45:54</td>\n",
       "    </tr>\n",
       "    <tr>\n",
       "      <th>freq</th>\n",
       "      <td>7</td>\n",
       "      <td>657</td>\n",
       "      <td>NaN</td>\n",
       "      <td>192585</td>\n",
       "      <td>95894</td>\n",
       "      <td>NaN</td>\n",
       "      <td>274214</td>\n",
       "      <td>40820.0</td>\n",
       "      <td>30070</td>\n",
       "      <td>NaN</td>\n",
       "      <td>NaN</td>\n",
       "      <td>223857</td>\n",
       "      <td>79640</td>\n",
       "      <td>14450</td>\n",
       "      <td>828</td>\n",
       "      <td>17</td>\n",
       "    </tr>\n",
       "    <tr>\n",
       "      <th>first</th>\n",
       "      <td>2016-03-05 14:06:22</td>\n",
       "      <td>NaN</td>\n",
       "      <td>NaN</td>\n",
       "      <td>NaN</td>\n",
       "      <td>NaN</td>\n",
       "      <td>NaN</td>\n",
       "      <td>NaN</td>\n",
       "      <td>NaN</td>\n",
       "      <td>NaN</td>\n",
       "      <td>NaN</td>\n",
       "      <td>NaN</td>\n",
       "      <td>NaN</td>\n",
       "      <td>NaN</td>\n",
       "      <td>2014-03-10 00:00:00</td>\n",
       "      <td>NaN</td>\n",
       "      <td>2016-03-05 14:15:08</td>\n",
       "    </tr>\n",
       "    <tr>\n",
       "      <th>last</th>\n",
       "      <td>2016-04-07 14:36:58</td>\n",
       "      <td>NaN</td>\n",
       "      <td>NaN</td>\n",
       "      <td>NaN</td>\n",
       "      <td>NaN</td>\n",
       "      <td>NaN</td>\n",
       "      <td>NaN</td>\n",
       "      <td>NaN</td>\n",
       "      <td>NaN</td>\n",
       "      <td>NaN</td>\n",
       "      <td>NaN</td>\n",
       "      <td>NaN</td>\n",
       "      <td>NaN</td>\n",
       "      <td>2016-04-07 00:00:00</td>\n",
       "      <td>NaN</td>\n",
       "      <td>2016-04-07 14:58:51</td>\n",
       "    </tr>\n",
       "    <tr>\n",
       "      <th>mean</th>\n",
       "      <td>NaN</td>\n",
       "      <td>NaN</td>\n",
       "      <td>1.729514e+04</td>\n",
       "      <td>NaN</td>\n",
       "      <td>NaN</td>\n",
       "      <td>2004.577997</td>\n",
       "      <td>NaN</td>\n",
       "      <td>NaN</td>\n",
       "      <td>NaN</td>\n",
       "      <td>125618.688228</td>\n",
       "      <td>5.734445</td>\n",
       "      <td>NaN</td>\n",
       "      <td>NaN</td>\n",
       "      <td>NaN</td>\n",
       "      <td>NaN</td>\n",
       "      <td>NaN</td>\n",
       "    </tr>\n",
       "    <tr>\n",
       "      <th>std</th>\n",
       "      <td>NaN</td>\n",
       "      <td>NaN</td>\n",
       "      <td>3.587954e+06</td>\n",
       "      <td>NaN</td>\n",
       "      <td>NaN</td>\n",
       "      <td>92.866598</td>\n",
       "      <td>NaN</td>\n",
       "      <td>NaN</td>\n",
       "      <td>NaN</td>\n",
       "      <td>40112.337051</td>\n",
       "      <td>3.712412</td>\n",
       "      <td>NaN</td>\n",
       "      <td>NaN</td>\n",
       "      <td>NaN</td>\n",
       "      <td>NaN</td>\n",
       "      <td>NaN</td>\n",
       "    </tr>\n",
       "    <tr>\n",
       "      <th>min</th>\n",
       "      <td>NaN</td>\n",
       "      <td>NaN</td>\n",
       "      <td>0.000000e+00</td>\n",
       "      <td>NaN</td>\n",
       "      <td>NaN</td>\n",
       "      <td>1000.000000</td>\n",
       "      <td>NaN</td>\n",
       "      <td>NaN</td>\n",
       "      <td>NaN</td>\n",
       "      <td>5000.000000</td>\n",
       "      <td>0.000000</td>\n",
       "      <td>NaN</td>\n",
       "      <td>NaN</td>\n",
       "      <td>NaN</td>\n",
       "      <td>NaN</td>\n",
       "      <td>NaN</td>\n",
       "    </tr>\n",
       "    <tr>\n",
       "      <th>25%</th>\n",
       "      <td>NaN</td>\n",
       "      <td>NaN</td>\n",
       "      <td>1.150000e+03</td>\n",
       "      <td>NaN</td>\n",
       "      <td>NaN</td>\n",
       "      <td>1999.000000</td>\n",
       "      <td>NaN</td>\n",
       "      <td>NaN</td>\n",
       "      <td>NaN</td>\n",
       "      <td>125000.000000</td>\n",
       "      <td>3.000000</td>\n",
       "      <td>NaN</td>\n",
       "      <td>NaN</td>\n",
       "      <td>NaN</td>\n",
       "      <td>NaN</td>\n",
       "      <td>NaN</td>\n",
       "    </tr>\n",
       "    <tr>\n",
       "      <th>50%</th>\n",
       "      <td>NaN</td>\n",
       "      <td>NaN</td>\n",
       "      <td>2.950000e+03</td>\n",
       "      <td>NaN</td>\n",
       "      <td>NaN</td>\n",
       "      <td>2003.000000</td>\n",
       "      <td>NaN</td>\n",
       "      <td>NaN</td>\n",
       "      <td>NaN</td>\n",
       "      <td>150000.000000</td>\n",
       "      <td>6.000000</td>\n",
       "      <td>NaN</td>\n",
       "      <td>NaN</td>\n",
       "      <td>NaN</td>\n",
       "      <td>NaN</td>\n",
       "      <td>NaN</td>\n",
       "    </tr>\n",
       "    <tr>\n",
       "      <th>75%</th>\n",
       "      <td>NaN</td>\n",
       "      <td>NaN</td>\n",
       "      <td>7.200000e+03</td>\n",
       "      <td>NaN</td>\n",
       "      <td>NaN</td>\n",
       "      <td>2008.000000</td>\n",
       "      <td>NaN</td>\n",
       "      <td>NaN</td>\n",
       "      <td>NaN</td>\n",
       "      <td>150000.000000</td>\n",
       "      <td>9.000000</td>\n",
       "      <td>NaN</td>\n",
       "      <td>NaN</td>\n",
       "      <td>NaN</td>\n",
       "      <td>NaN</td>\n",
       "      <td>NaN</td>\n",
       "    </tr>\n",
       "    <tr>\n",
       "      <th>max</th>\n",
       "      <td>NaN</td>\n",
       "      <td>NaN</td>\n",
       "      <td>2.147484e+09</td>\n",
       "      <td>NaN</td>\n",
       "      <td>NaN</td>\n",
       "      <td>9999.000000</td>\n",
       "      <td>NaN</td>\n",
       "      <td>NaN</td>\n",
       "      <td>NaN</td>\n",
       "      <td>150000.000000</td>\n",
       "      <td>12.000000</td>\n",
       "      <td>NaN</td>\n",
       "      <td>NaN</td>\n",
       "      <td>NaN</td>\n",
       "      <td>NaN</td>\n",
       "      <td>NaN</td>\n",
       "    </tr>\n",
       "  </tbody>\n",
       "</table>\n",
       "</div>"
      ],
      "text/plain": [
       "               date_crawled         name         price ab_test vehicle_type  \\\n",
       "count                371528       371528  3.715280e+05  371528       333659   \n",
       "unique               280500       233531           NaN       2            8   \n",
       "top     2016-03-24 14:49:47  Ford_Fiesta           NaN    test    limousine   \n",
       "freq                      7          657           NaN  192585        95894   \n",
       "first   2016-03-05 14:06:22          NaN           NaN     NaN          NaN   \n",
       "last    2016-04-07 14:36:58          NaN           NaN     NaN          NaN   \n",
       "mean                    NaN          NaN  1.729514e+04     NaN          NaN   \n",
       "std                     NaN          NaN  3.587954e+06     NaN          NaN   \n",
       "min                     NaN          NaN  0.000000e+00     NaN          NaN   \n",
       "25%                     NaN          NaN  1.150000e+03     NaN          NaN   \n",
       "50%                     NaN          NaN  2.950000e+03     NaN          NaN   \n",
       "75%                     NaN          NaN  7.200000e+03     NaN          NaN   \n",
       "max                     NaN          NaN  2.147484e+09     NaN          NaN   \n",
       "\n",
       "        registration_year  gearbox     power   model    odometer_km  \\\n",
       "count       371528.000000   351319  371528.0  351044  371528.000000   \n",
       "unique                NaN        2     794.0     251            NaN   \n",
       "top                   NaN  manuell       0.0    golf            NaN   \n",
       "freq                  NaN   274214   40820.0   30070            NaN   \n",
       "first                 NaN      NaN       NaN     NaN            NaN   \n",
       "last                  NaN      NaN       NaN     NaN            NaN   \n",
       "mean          2004.577997      NaN       NaN     NaN  125618.688228   \n",
       "std             92.866598      NaN       NaN     NaN   40112.337051   \n",
       "min           1000.000000      NaN       NaN     NaN    5000.000000   \n",
       "25%           1999.000000      NaN       NaN     NaN  125000.000000   \n",
       "50%           2003.000000      NaN       NaN     NaN  150000.000000   \n",
       "75%           2008.000000      NaN       NaN     NaN  150000.000000   \n",
       "max           9999.000000      NaN       NaN     NaN  150000.000000   \n",
       "\n",
       "        registration_month fuel_type       brand         date_created  \\\n",
       "count        371528.000000    338142      371528               371528   \n",
       "unique                 NaN         7          40                  114   \n",
       "top                    NaN    benzin  volkswagen  2016-04-03 00:00:00   \n",
       "freq                   NaN    223857       79640                14450   \n",
       "first                  NaN       NaN         NaN  2014-03-10 00:00:00   \n",
       "last                   NaN       NaN         NaN  2016-04-07 00:00:00   \n",
       "mean              5.734445       NaN         NaN                  NaN   \n",
       "std               3.712412       NaN         NaN                  NaN   \n",
       "min               0.000000       NaN         NaN                  NaN   \n",
       "25%               3.000000       NaN         NaN                  NaN   \n",
       "50%               6.000000       NaN         NaN                  NaN   \n",
       "75%               9.000000       NaN         NaN                  NaN   \n",
       "max              12.000000       NaN         NaN                  NaN   \n",
       "\n",
       "       postal_code            last_seen  \n",
       "count       371528               371528  \n",
       "unique        8150               182806  \n",
       "top          10115  2016-04-06 13:45:54  \n",
       "freq           828                   17  \n",
       "first          NaN  2016-03-05 14:15:08  \n",
       "last           NaN  2016-04-07 14:58:51  \n",
       "mean           NaN                  NaN  \n",
       "std            NaN                  NaN  \n",
       "min            NaN                  NaN  \n",
       "25%            NaN                  NaN  \n",
       "50%            NaN                  NaN  \n",
       "75%            NaN                  NaN  \n",
       "max            NaN                  NaN  "
      ]
     },
     "execution_count": 19,
     "metadata": {},
     "output_type": "execute_result"
    }
   ],
   "source": [
    "autos.describe(include='all')"
   ]
  },
  {
   "cell_type": "markdown",
   "id": "12bbe843",
   "metadata": {},
   "source": [
    "### Finding Outliers"
   ]
  },
  {
   "cell_type": "markdown",
   "id": "090ea425",
   "metadata": {},
   "source": [
    "***Find outliers with the Interquartile Range where q1 is 25 percentile and q3 75 percentile value of .describe()*** "
   ]
  },
  {
   "cell_type": "code",
   "execution_count": 20,
   "id": "9dcae839",
   "metadata": {},
   "outputs": [
    {
     "data": {
      "text/plain": [
       "count        371528.000000\n",
       "mean          17295.141865\n",
       "std         3587953.744410\n",
       "min               0.000000\n",
       "25%            1150.000000\n",
       "50%            2950.000000\n",
       "75%            7200.000000\n",
       "max      2147483647.000000\n",
       "Name: price, dtype: object"
      ]
     },
     "execution_count": 20,
     "metadata": {},
     "output_type": "execute_result"
    }
   ],
   "source": [
    "autos['price'].describe().apply(lambda x: format(x, 'f')) #scientific notation suppressed."
   ]
  },
  {
   "cell_type": "code",
   "execution_count": 21,
   "id": "4704dade",
   "metadata": {},
   "outputs": [
    {
     "data": {
      "text/plain": [
       "count    371528.000000\n",
       "mean     125618.688228\n",
       "std       40112.337051\n",
       "min        5000.000000\n",
       "25%      125000.000000\n",
       "50%      150000.000000\n",
       "75%      150000.000000\n",
       "max      150000.000000\n",
       "Name: odometer_km, dtype: object"
      ]
     },
     "execution_count": 21,
     "metadata": {},
     "output_type": "execute_result"
    }
   ],
   "source": [
    "autos['odometer_km'].describe().apply(lambda x: format(x, 'f'))"
   ]
  },
  {
   "cell_type": "code",
   "execution_count": 22,
   "id": "71d0c180",
   "metadata": {},
   "outputs": [],
   "source": [
    "cols = ['price', 'odometer_km']\n",
    "q1 = autos[cols].quantile(0.25)\n",
    "q3 = autos[cols].quantile(0.75)\n",
    "iqr = q3 - q1\n",
    "\n",
    "# Return a boolean array of the rows with (any) non-outlier column values\n",
    "condition = ~((autos[cols] < (q1 - 1.5 * iqr)) | (autos[cols] > (q3 +1.5 * iqr))).any(axis = 1)\n",
    "\n",
    "# Filter our dataframe based on condition\n",
    "filtered_autos = autos[condition]"
   ]
  },
  {
   "cell_type": "code",
   "execution_count": 23,
   "id": "4859169a",
   "metadata": {},
   "outputs": [
    {
     "data": {
      "text/plain": [
       "295620"
      ]
     },
     "execution_count": 23,
     "metadata": {},
     "output_type": "execute_result"
    }
   ],
   "source": [
    "len(filtered_autos)"
   ]
  },
  {
   "cell_type": "markdown",
   "id": "6c8e4920",
   "metadata": {},
   "source": [
    "**Original Rows: 371528**\\\n",
    "**After outliers**\\\n",
    "**Adjusted Rows: 295620**"
   ]
  },
  {
   "cell_type": "markdown",
   "id": "5c76d48a",
   "metadata": {},
   "source": [
    "### Exploring the Odometer and Price Columns"
   ]
  },
  {
   "cell_type": "code",
   "execution_count": 24,
   "id": "6c7025c6",
   "metadata": {},
   "outputs": [
    {
     "data": {
      "text/plain": [
       "150000.0    235295\n",
       "125000.0     35256\n",
       "100000.0     14196\n",
       "90000.0      10873\n",
       "Name: odometer_km, dtype: int64"
      ]
     },
     "execution_count": 24,
     "metadata": {},
     "output_type": "execute_result"
    }
   ],
   "source": [
    "filtered_autos['odometer_km'].value_counts()"
   ]
  },
  {
   "cell_type": "markdown",
   "id": "135027ae",
   "metadata": {},
   "source": [
    "It can be seen that the values in this field are rounded, which might indicate that sellers had to choose from pre-set options for this field. Additionally, there are more high mileage than low mileage vehicles."
   ]
  },
  {
   "cell_type": "code",
   "execution_count": 25,
   "id": "8128be3a",
   "metadata": {},
   "outputs": [
    {
     "data": {
      "text/plain": [
       "count    295620.000000\n",
       "mean       3563.428415\n",
       "std        3532.760660\n",
       "min           0.000000\n",
       "25%         999.000000\n",
       "50%        2300.000000\n",
       "75%        4999.000000\n",
       "max       16270.000000\n",
       "Name: price, dtype: float64"
      ]
     },
     "execution_count": 25,
     "metadata": {},
     "output_type": "execute_result"
    }
   ],
   "source": [
    "filtered_autos['price'].describe()"
   ]
  },
  {
   "cell_type": "code",
   "execution_count": 26,
   "id": "43fa75d6",
   "metadata": {},
   "outputs": [
    {
     "name": "stdout",
     "output_type": "stream",
     "text": [
      "Total Number of Unique Values: 2990\n",
      "Lowest Price: 0.0\n",
      "Highest Price: 16270.0\n"
     ]
    }
   ],
   "source": [
    "print('Total Number of Unique Values:',filtered_autos['price'].nunique())\n",
    "print('Lowest Price:',filtered_autos['price'].min())\n",
    "print('Highest Price:',filtered_autos['price'].max())"
   ]
  },
  {
   "cell_type": "markdown",
   "id": "1bb7becd",
   "metadata": {},
   "source": [
    "Removing values which display no price."
   ]
  },
  {
   "cell_type": "code",
   "execution_count": 27,
   "id": "b6bcc2b9",
   "metadata": {},
   "outputs": [],
   "source": [
    "filtered_price = filtered_autos[filtered_autos['price'].between(1, 16270)]"
   ]
  },
  {
   "cell_type": "markdown",
   "id": "1079b157",
   "metadata": {},
   "source": [
    "### Exploring the Date Columns"
   ]
  },
  {
   "cell_type": "code",
   "execution_count": 28,
   "id": "569fb4d4",
   "metadata": {},
   "outputs": [
    {
     "data": {
      "text/plain": [
       "date_crawled         date_created  last_seen          \n",
       "2016-03-05 14:06:22  2016-03-05    2016-03-27 17:16:15    0.000003\n",
       "2016-03-05 14:06:23  2016-03-05    2016-03-06 18:29:35    0.000003\n",
       "2016-03-05 14:06:24  2016-03-05    2016-03-09 15:19:01    0.000003\n",
       "                                   2016-03-24 09:16:44    0.000003\n",
       "                                   2016-04-06 22:15:33    0.000003\n",
       "2016-03-05 14:06:25  2016-03-05    2016-03-09 15:19:01    0.000003\n",
       "2016-03-05 14:06:26  2016-03-05    2016-03-05 17:47:48    0.000003\n",
       "2016-03-05 14:06:27  2016-03-05    2016-03-21 02:18:33    0.000003\n",
       "                                   2016-04-06 22:15:32    0.000003\n",
       "2016-03-05 14:06:28  2016-03-05    2016-03-07 10:47:00    0.000003\n",
       "dtype: float64"
      ]
     },
     "execution_count": 28,
     "metadata": {},
     "output_type": "execute_result"
    }
   ],
   "source": [
    "#showing distribution of values for dates\n",
    "#to include missing values in the distribution and to use percentile instead of counts(dropna).\n",
    "filtered_autos[['date_crawled','date_created','last_seen',]].value_counts(normalize = True).sort_index().head(10)"
   ]
  },
  {
   "cell_type": "code",
   "execution_count": 29,
   "id": "13da3699",
   "metadata": {},
   "outputs": [
    {
     "data": {
      "text/plain": [
       "count    371528.000000\n",
       "mean       2004.577997\n",
       "std          92.866598\n",
       "min        1000.000000\n",
       "25%        1999.000000\n",
       "50%        2003.000000\n",
       "75%        2008.000000\n",
       "max        9999.000000\n",
       "Name: registration_year, dtype: float64"
      ]
     },
     "execution_count": 29,
     "metadata": {},
     "output_type": "execute_result"
    }
   ],
   "source": [
    "autos['registration_year'].describe()"
   ]
  },
  {
   "cell_type": "code",
   "execution_count": 30,
   "id": "bd4bdd15",
   "metadata": {},
   "outputs": [
    {
     "data": {
      "text/plain": [
       "count    295620.000000\n",
       "mean       2002.499144\n",
       "std          14.918346\n",
       "min        1000.000000\n",
       "25%        1999.000000\n",
       "50%        2002.000000\n",
       "75%        2006.000000\n",
       "max        9000.000000\n",
       "Name: registration_year, dtype: float64"
      ]
     },
     "execution_count": 30,
     "metadata": {},
     "output_type": "execute_result"
    }
   ],
   "source": [
    "filtered_autos['registration_year'].describe()"
   ]
  },
  {
   "cell_type": "markdown",
   "id": "c64a40ff",
   "metadata": {},
   "source": [
    "### Dealing with Incorrect Registration Year Data\n",
    "A car can't be first registered before the listing was seen, any vehicle with a registration year above 2016 is definitely inaccurate. Determining the earliest valid year is more difficult. Realistically, it could be somewhere in the first few decades of the 1900s.\n",
    "\n",
    "The above mentioned problem can be solved by remove the listings with these values. Let's determine what percentage of our data has invalid values in this column:"
   ]
  },
  {
   "cell_type": "code",
   "execution_count": 31,
   "id": "1c66dd85",
   "metadata": {
    "scrolled": false
   },
   "outputs": [],
   "source": [
    "filtered_autos_1900_2016 = filtered_autos[filtered_autos['registration_year'].between(1900, 2016)]"
   ]
  },
  {
   "cell_type": "code",
   "execution_count": 32,
   "id": "4e610c46",
   "metadata": {},
   "outputs": [
    {
     "data": {
      "text/plain": [
       "2000    0.080238\n",
       "1999    0.076699\n",
       "2005    0.070608\n",
       "2001    0.067229\n",
       "2003    0.065698\n",
       "          ...   \n",
       "1930    0.000004\n",
       "1928    0.000004\n",
       "1919    0.000004\n",
       "1946    0.000004\n",
       "1915    0.000004\n",
       "Name: registration_year, Length: 84, dtype: float64"
      ]
     },
     "execution_count": 32,
     "metadata": {},
     "output_type": "execute_result"
    }
   ],
   "source": [
    "filtered_autos_1900_2016['registration_year'].value_counts(normalize = True)"
   ]
  },
  {
   "cell_type": "markdown",
   "id": "21f43b22",
   "metadata": {},
   "source": [
    "It appears that most of the vehicles were first registered in the past 20 years.\n",
    "### Exploring Price & Mileage by Brand"
   ]
  },
  {
   "cell_type": "code",
   "execution_count": 33,
   "id": "a73a37b9",
   "metadata": {
    "scrolled": true
   },
   "outputs": [
    {
     "data": {
      "text/plain": [
       "volkswagen        66008\n",
       "opel              34504\n",
       "bmw               32704\n",
       "mercedes_benz     27821\n",
       "audi              25586\n",
       "ford              20725\n",
       "renault           15392\n",
       "peugeot            9112\n",
       "fiat               7373\n",
       "seat               5517\n",
       "mazda              4757\n",
       "citroen            4075\n",
       "skoda              4073\n",
       "nissan             3924\n",
       "toyota             3515\n",
       "smart              3284\n",
       "volvo              2950\n",
       "mitsubishi         2561\n",
       "hyundai            2352\n",
       "honda              2338\n",
       "alfa_romeo         2004\n",
       "mini               1912\n",
       "sonstige_autos     1822\n",
       "kia                1742\n",
       "suzuki             1584\n",
       "chrysler           1287\n",
       "chevrolet          1064\n",
       "daihatsu            645\n",
       "subaru              643\n",
       "jeep                573\n",
       "porsche             496\n",
       "saab                492\n",
       "daewoo              460\n",
       "rover               440\n",
       "land_rover          439\n",
       "dacia               424\n",
       "jaguar              421\n",
       "lancia              403\n",
       "trabant             120\n",
       "lada                 78\n",
       "Name: brand, dtype: int64"
      ]
     },
     "execution_count": 33,
     "metadata": {},
     "output_type": "execute_result"
    }
   ],
   "source": [
    "filtered_autos['brand'].value_counts()"
   ]
  },
  {
   "cell_type": "markdown",
   "id": "567155d4",
   "metadata": {},
   "source": [
    "Selecting top 20 brands."
   ]
  },
  {
   "cell_type": "code",
   "execution_count": 34,
   "id": "1cd95ac3",
   "metadata": {},
   "outputs": [
    {
     "data": {
      "text/plain": [
       "Index(['volkswagen', 'opel', 'bmw', 'mercedes_benz', 'audi', 'ford', 'renault',\n",
       "       'peugeot', 'fiat', 'seat', 'mazda', 'citroen', 'skoda', 'nissan',\n",
       "       'toyota', 'smart', 'volvo', 'mitsubishi', 'hyundai', 'honda'],\n",
       "      dtype='object')"
      ]
     },
     "execution_count": 34,
     "metadata": {},
     "output_type": "execute_result"
    }
   ],
   "source": [
    "first20_brands = filtered_autos['brand'].value_counts().index[0:20]\n",
    "first20_brands"
   ]
  },
  {
   "cell_type": "markdown",
   "id": "da8c2522",
   "metadata": {},
   "source": [
    "Below we will construct a dictionary with unique brand name as key and mean value of price and mileage as value. "
   ]
  },
  {
   "cell_type": "code",
   "execution_count": 49,
   "id": "70ccbf70",
   "metadata": {},
   "outputs": [
    {
     "data": {
      "text/plain": [
       "{'volkswagen': 3634.3789,\n",
       " 'opel': 2226.4184,\n",
       " 'bmw': 5485.5927,\n",
       " 'mercedes_benz': 5036.702,\n",
       " 'audi': 5326.541,\n",
       " 'ford': 2496.8949,\n",
       " 'renault': 1803.18,\n",
       " 'peugeot': 2459.514,\n",
       " 'fiat': 1947.2039,\n",
       " 'seat': 2911.239,\n",
       " 'mazda': 2887.0002,\n",
       " 'citroen': 2791.0335,\n",
       " 'skoda': 4715.1214,\n",
       " 'nissan': 3030.5123,\n",
       " 'toyota': 3931.7494,\n",
       " 'smart': 2414.3242,\n",
       " 'volvo': 3721.7877,\n",
       " 'mitsubishi': 2414.4399,\n",
       " 'hyundai': 3504.8822,\n",
       " 'honda': 2969.0408}"
      ]
     },
     "execution_count": 49,
     "metadata": {},
     "output_type": "execute_result"
    }
   ],
   "source": [
    "mean_price = {}\n",
    "mean_mileage = {}\n",
    "for key in first20_brands:\n",
    "    selected_top20_brands = filtered_price[filtered_price['brand'] == key]\n",
    "    mean_price[key] = round(selected_top20_brands['price'].agg(np.mean), 4)\n",
    "    mean_mileage[key] = round(selected_top20_brands['odometer_km'].mean(), 4)\n",
    "    \n",
    "mean_price"
   ]
  },
  {
   "cell_type": "code",
   "execution_count": 50,
   "id": "0b8f153e",
   "metadata": {},
   "outputs": [
    {
     "data": {
      "text/plain": [
       "{'volkswagen': 143724.7233,\n",
       " 'opel': 142004.7475,\n",
       " 'bmw': 145293.2935,\n",
       " 'mercedes_benz': 144821.2711,\n",
       " 'audi': 145807.7776,\n",
       " 'ford': 140371.8516,\n",
       " 'renault': 141260.3015,\n",
       " 'peugeot': 139803.8337,\n",
       " 'fiat': 137934.6607,\n",
       " 'seat': 140673.1488,\n",
       " 'mazda': 140903.4841,\n",
       " 'citroen': 138841.8933,\n",
       " 'skoda': 137866.2024,\n",
       " 'nissan': 138844.5378,\n",
       " 'toyota': 138216.763,\n",
       " 'smart': 128980.7633,\n",
       " 'volvo': 146385.9833,\n",
       " 'mitsubishi': 141685.4839,\n",
       " 'hyundai': 134242.0961,\n",
       " 'honda': 141263.8581}"
      ]
     },
     "execution_count": 50,
     "metadata": {},
     "output_type": "execute_result"
    }
   ],
   "source": [
    "mean_mileage"
   ]
  },
  {
   "cell_type": "markdown",
   "id": "2753b9d0",
   "metadata": {},
   "source": [
    "Converting from dictionary to dataframe."
   ]
  },
  {
   "cell_type": "code",
   "execution_count": 77,
   "id": "08aef63e",
   "metadata": {},
   "outputs": [
    {
     "data": {
      "text/html": [
       "<div>\n",
       "<style scoped>\n",
       "    .dataframe tbody tr th:only-of-type {\n",
       "        vertical-align: middle;\n",
       "    }\n",
       "\n",
       "    .dataframe tbody tr th {\n",
       "        vertical-align: top;\n",
       "    }\n",
       "\n",
       "    .dataframe thead th {\n",
       "        text-align: right;\n",
       "    }\n",
       "</style>\n",
       "<table border=\"1\" class=\"dataframe\">\n",
       "  <thead>\n",
       "    <tr style=\"text-align: right;\">\n",
       "      <th></th>\n",
       "      <th>mean_price</th>\n",
       "      <th>mean_mileage</th>\n",
       "    </tr>\n",
       "  </thead>\n",
       "  <tbody>\n",
       "    <tr>\n",
       "      <th>volkswagen</th>\n",
       "      <td>3634.3789</td>\n",
       "      <td>143724.7233</td>\n",
       "    </tr>\n",
       "    <tr>\n",
       "      <th>opel</th>\n",
       "      <td>2226.4184</td>\n",
       "      <td>142004.7475</td>\n",
       "    </tr>\n",
       "    <tr>\n",
       "      <th>bmw</th>\n",
       "      <td>5485.5927</td>\n",
       "      <td>145293.2935</td>\n",
       "    </tr>\n",
       "    <tr>\n",
       "      <th>mercedes_benz</th>\n",
       "      <td>5036.7020</td>\n",
       "      <td>144821.2711</td>\n",
       "    </tr>\n",
       "    <tr>\n",
       "      <th>audi</th>\n",
       "      <td>5326.5410</td>\n",
       "      <td>145807.7776</td>\n",
       "    </tr>\n",
       "    <tr>\n",
       "      <th>ford</th>\n",
       "      <td>2496.8949</td>\n",
       "      <td>140371.8516</td>\n",
       "    </tr>\n",
       "    <tr>\n",
       "      <th>renault</th>\n",
       "      <td>1803.1800</td>\n",
       "      <td>141260.3015</td>\n",
       "    </tr>\n",
       "    <tr>\n",
       "      <th>peugeot</th>\n",
       "      <td>2459.5140</td>\n",
       "      <td>139803.8337</td>\n",
       "    </tr>\n",
       "    <tr>\n",
       "      <th>fiat</th>\n",
       "      <td>1947.2039</td>\n",
       "      <td>137934.6607</td>\n",
       "    </tr>\n",
       "    <tr>\n",
       "      <th>seat</th>\n",
       "      <td>2911.2390</td>\n",
       "      <td>140673.1488</td>\n",
       "    </tr>\n",
       "    <tr>\n",
       "      <th>mazda</th>\n",
       "      <td>2887.0002</td>\n",
       "      <td>140903.4841</td>\n",
       "    </tr>\n",
       "    <tr>\n",
       "      <th>citroen</th>\n",
       "      <td>2791.0335</td>\n",
       "      <td>138841.8933</td>\n",
       "    </tr>\n",
       "    <tr>\n",
       "      <th>skoda</th>\n",
       "      <td>4715.1214</td>\n",
       "      <td>137866.2024</td>\n",
       "    </tr>\n",
       "    <tr>\n",
       "      <th>nissan</th>\n",
       "      <td>3030.5123</td>\n",
       "      <td>138844.5378</td>\n",
       "    </tr>\n",
       "    <tr>\n",
       "      <th>toyota</th>\n",
       "      <td>3931.7494</td>\n",
       "      <td>138216.7630</td>\n",
       "    </tr>\n",
       "    <tr>\n",
       "      <th>smart</th>\n",
       "      <td>2414.3242</td>\n",
       "      <td>128980.7633</td>\n",
       "    </tr>\n",
       "    <tr>\n",
       "      <th>volvo</th>\n",
       "      <td>3721.7877</td>\n",
       "      <td>146385.9833</td>\n",
       "    </tr>\n",
       "    <tr>\n",
       "      <th>mitsubishi</th>\n",
       "      <td>2414.4399</td>\n",
       "      <td>141685.4839</td>\n",
       "    </tr>\n",
       "    <tr>\n",
       "      <th>hyundai</th>\n",
       "      <td>3504.8822</td>\n",
       "      <td>134242.0961</td>\n",
       "    </tr>\n",
       "    <tr>\n",
       "      <th>honda</th>\n",
       "      <td>2969.0408</td>\n",
       "      <td>141263.8581</td>\n",
       "    </tr>\n",
       "  </tbody>\n",
       "</table>\n",
       "</div>"
      ],
      "text/plain": [
       "               mean_price  mean_mileage\n",
       "volkswagen      3634.3789   143724.7233\n",
       "opel            2226.4184   142004.7475\n",
       "bmw             5485.5927   145293.2935\n",
       "mercedes_benz   5036.7020   144821.2711\n",
       "audi            5326.5410   145807.7776\n",
       "ford            2496.8949   140371.8516\n",
       "renault         1803.1800   141260.3015\n",
       "peugeot         2459.5140   139803.8337\n",
       "fiat            1947.2039   137934.6607\n",
       "seat            2911.2390   140673.1488\n",
       "mazda           2887.0002   140903.4841\n",
       "citroen         2791.0335   138841.8933\n",
       "skoda           4715.1214   137866.2024\n",
       "nissan          3030.5123   138844.5378\n",
       "toyota          3931.7494   138216.7630\n",
       "smart           2414.3242   128980.7633\n",
       "volvo           3721.7877   146385.9833\n",
       "mitsubishi      2414.4399   141685.4839\n",
       "hyundai         3504.8822   134242.0961\n",
       "honda           2969.0408   141263.8581"
      ]
     },
     "execution_count": 77,
     "metadata": {},
     "output_type": "execute_result"
    }
   ],
   "source": [
    "def top20_brands(x, y):\n",
    "    \n",
    "    mean_price_df = pd.DataFrame.from_dict(x, orient = 'index', columns = ['mean_price'])\n",
    "    mean_mileage_df = pd.DataFrame.from_dict(y, orient = 'index', columns = ['mean_mileage'])\n",
    "    \n",
    "    mean_price_mileage = pd.concat([mean_price_df, mean_mileage_df], axis = 1)\n",
    "    \n",
    "    return mean_price_mileage\n",
    "    \n",
    "top20_brands(mean_price, mean_mileage)"
   ]
  },
  {
   "cell_type": "markdown",
   "id": "5ba78a41",
   "metadata": {},
   "source": [
    "## Conclusion"
   ]
  },
  {
   "cell_type": "markdown",
   "id": "3910cc85",
   "metadata": {},
   "source": [
    "We have utilized pandas and NumPy to quickly and easily clean, sort, and manipulate a large set of data. There were many things that required cleaning, as well as things that were technically fine, but needed to be changed for improved readability. We made heavy use of DataFrames in this project, as well as boolean index masking and aggregation."
   ]
  },
  {
   "cell_type": "code",
   "execution_count": null,
   "id": "ed7801f8",
   "metadata": {},
   "outputs": [],
   "source": []
  }
 ],
 "metadata": {
  "kernelspec": {
   "display_name": "Python 3",
   "language": "python",
   "name": "python3"
  },
  "language_info": {
   "codemirror_mode": {
    "name": "ipython",
    "version": 3
   },
   "file_extension": ".py",
   "mimetype": "text/x-python",
   "name": "python",
   "nbconvert_exporter": "python",
   "pygments_lexer": "ipython3",
   "version": "3.8.8"
  }
 },
 "nbformat": 4,
 "nbformat_minor": 5
}
