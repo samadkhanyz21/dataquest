{
 "cells": [
  {
   "cell_type": "code",
   "execution_count": 1,
   "id": "fe986d4a",
   "metadata": {},
   "outputs": [],
   "source": [
    "import random\n",
    "import requests\n",
    "from bs4 import BeautifulSoup as bs"
   ]
  },
  {
   "cell_type": "code",
   "execution_count": 2,
   "id": "befb9ebe",
   "metadata": {},
   "outputs": [
    {
     "data": {
      "text/plain": [
       "200"
      ]
     },
     "execution_count": 2,
     "metadata": {},
     "output_type": "execute_result"
    }
   ],
   "source": [
    "header = {'User-Agent':'Mozilla/5.0 (X11; Ubuntu; Linux x86_64) AppleWebKit/537.36 (KHTML, like Gecko) Chrome/55.0.2919.83 Safari/537.36'}\n",
    "url = 'https://www.azlyrics.com/s/shooterjennings.html'\n",
    "r = requests.get(url)\n",
    "r.status_code"
   ]
  },
  {
   "cell_type": "code",
   "execution_count": 3,
   "id": "f524e51f",
   "metadata": {},
   "outputs": [],
   "source": [
    "soup = bs(r.text, 'lxml')\n",
    "songs = soup.find_all(class_=\"listalbum-item\")\n",
    "\n",
    "# Extracting links\n",
    "urls = []\n",
    "\n",
    "for s in songs:\n",
    "    urls.append(s.find('a'))"
   ]
  },
  {
   "cell_type": "code",
   "execution_count": 4,
   "id": "4e0c5b57",
   "metadata": {
    "scrolled": true
   },
   "outputs": [],
   "source": [
    "# for i in range(len(urls)):\n",
    "#     if i != 79:\n",
    "#             print(i)\n",
    "\n",
    "# Total 109 links "
   ]
  },
  {
   "cell_type": "code",
   "execution_count": 5,
   "id": "c71628f7",
   "metadata": {},
   "outputs": [],
   "source": [
    "# Extracting hyperlink\n",
    "for i in range(len(urls)):\n",
    "    if i != 79:\n",
    "        urls[i]['href'] = 'https://www.azlyrics.com/' + urls[i]['href']"
   ]
  },
  {
   "cell_type": "code",
   "execution_count": 6,
   "id": "8061cd7a",
   "metadata": {},
   "outputs": [
    {
     "data": {
      "text/plain": [
       "[<div class=\"listalbum-item\"><a href=\"https://www.azlyrics.com//lyrics/shooterjennings/puttheobackincountry.html\" target=\"_blank\">Put The \"O\" Back In Country</a></div>,\n",
       " <div class=\"listalbum-item\"><a href=\"https://www.azlyrics.com//lyrics/shooterjennings/4thofjuly.html\" target=\"_blank\">4th Of July</a></div>,\n",
       " <div class=\"listalbum-item\"><a href=\"https://www.azlyrics.com//lyrics/shooterjennings/lonesomeblues.html\" target=\"_blank\">Lonesome Blues</a></div>,\n",
       " <div class=\"listalbum-item\"><a href=\"https://www.azlyrics.com//lyrics/shooterjennings/solidcountrygold.html\" target=\"_blank\">Solid Country Gold</a></div>,\n",
       " <div class=\"listalbum-item\"><a href=\"https://www.azlyrics.com//lyrics/shooterjennings/bustedinbaylorcountysweetleafversion.html\" target=\"_blank\">Busted In Baylor County (Sweet Leaf Version)</a></div>,\n",
       " <div class=\"listalbum-item\"><a href=\"https://www.azlyrics.com//lyrics/shooterjennings/sweetsavannah.html\" target=\"_blank\">Sweet Savannah</a></div>,\n",
       " <div class=\"listalbum-item\"><a href=\"https://www.azlyrics.com//lyrics/shooterjennings/steadyatthewheel.html\" target=\"_blank\">Steady At The Wheel</a></div>,\n",
       " <div class=\"listalbum-item\"><a href=\"https://www.azlyrics.com//lyrics/shooterjennings/manifestono1.html\" target=\"_blank\">Manifesto No. 1</a></div>,\n",
       " <div class=\"listalbum-item\"><a href=\"https://www.azlyrics.com//lyrics/shooterjennings/theletter.html\" target=\"_blank\">The Letter</a></div>,\n",
       " <div class=\"listalbum-item\"><a href=\"https://www.azlyrics.com//lyrics/shooterjennings/southerncomfort.html\" target=\"_blank\">Southern Comfort</a></div>,\n",
       " <div class=\"listalbum-item\"><a href=\"https://www.azlyrics.com//lyrics/shooterjennings/daddysfarm.html\" target=\"_blank\">Daddy's Farm</a></div>,\n",
       " <div class=\"listalbum-item\"><a href=\"https://www.azlyrics.com//lyrics/shooterjennings/electricrodeo.html\" target=\"_blank\">Electric Rodeo</a></div>,\n",
       " <div class=\"listalbum-item\"><a href=\"https://www.azlyrics.com//lyrics/shooterjennings/gonetocarolina.html\" target=\"_blank\">Gone To Carolina</a></div>,\n",
       " <div class=\"listalbum-item\"><a href=\"https://www.azlyrics.com//lyrics/shooterjennings/somerowdywomen.html\" target=\"_blank\">Some Rowdy Women</a></div>,\n",
       " <div class=\"listalbum-item\"><a href=\"https://www.azlyrics.com//lyrics/shooterjennings/thesongisstillslippingaway.html\" target=\"_blank\">The Song Is Still Slipping Away</a></div>,\n",
       " <div class=\"listalbum-item\"><a href=\"https://www.azlyrics.com//lyrics/shooterjennings/hairofthedog.html\" target=\"_blank\">Hair Of The Dog</a></div>,\n",
       " <div class=\"listalbum-item\"><a href=\"https://www.azlyrics.com//lyrics/shooterjennings/littlewhitelines.html\" target=\"_blank\">Little White Lines</a></div>,\n",
       " <div class=\"listalbum-item\"><a href=\"https://www.azlyrics.com//lyrics/shooterjennings/alligatorchomptheballadofdrmartinlutherfrogjr.html\" target=\"_blank\">Alligator Chomp (The Ballad Of Dr. Martin Luther Frog Jr.)</a></div>,\n",
       " <div class=\"listalbum-item\"><a href=\"https://www.azlyrics.com//lyrics/shooterjennings/manifestono2.html\" target=\"_blank\">Manifesto No. 2</a></div>,\n",
       " <div class=\"listalbum-item\"><a href=\"https://www.azlyrics.com//lyrics/shooterjennings/aviators.html\" target=\"_blank\">Aviators</a></div>,\n",
       " <div class=\"listalbum-item\"><a href=\"https://www.azlyrics.com//lyrics/shooterjennings/badmagick.html\" target=\"_blank\">Bad Magick</a></div>,\n",
       " <div class=\"listalbum-item\"><a href=\"https://www.azlyrics.com//lyrics/shooterjennings/itainteasy.html\" target=\"_blank\">It Ain't Easy</a></div>,\n",
       " <div class=\"listalbum-item\"><a href=\"https://www.azlyrics.com//lyrics/shooterjennings/thisolwheel.html\" target=\"_blank\">This Ol' Wheel</a></div>,\n",
       " <div class=\"listalbum-item\"><a href=\"https://www.azlyrics.com//lyrics/shooterjennings/tangleduproses.html\" target=\"_blank\">Tangled Up Roses</a></div>,\n",
       " <div class=\"listalbum-item\"><a href=\"https://www.azlyrics.com//lyrics/shooterjennings/walkoflife.html\" target=\"_blank\">Walk Of Life</a></div>,\n",
       " <div class=\"listalbum-item\"><a href=\"https://www.azlyrics.com//lyrics/shooterjennings/oldfriend.html\" target=\"_blank\">Old Friend</a></div>,\n",
       " <div class=\"listalbum-item\"><a href=\"https://www.azlyrics.com//lyrics/shooterjennings/slowtrain.html\" target=\"_blank\">Slow Train</a></div>,\n",
       " <div class=\"listalbum-item\"><a href=\"https://www.azlyrics.com//lyrics/shooterjennings/concretecowboys.html\" target=\"_blank\">Concrete Cowboys</a></div>,\n",
       " <div class=\"listalbum-item\"><a href=\"https://www.azlyrics.com//lyrics/shooterjennings/higher.html\" target=\"_blank\">Higher</a></div>,\n",
       " <div class=\"listalbum-item\"><a href=\"https://www.azlyrics.com//lyrics/shooterjennings/bloodfromastone.html\" target=\"_blank\">Blood From A Stone</a></div>,\n",
       " <div class=\"listalbum-item\"><a href=\"https://www.azlyrics.com//lyrics/shooterjennings/lasttimeiletyoudown.html\" target=\"_blank\">Last Time I Let You Down</a></div>,\n",
       " <div class=\"listalbum-item\"><a href=\"https://www.azlyrics.com//lyrics/shooterjennings/shelivesincolor.html\" target=\"_blank\">She Lives In Color</a></div>,\n",
       " <div class=\"listalbum-item\"><a href=\"https://www.azlyrics.com//lyrics/shooterjennings/thewolf.html\" target=\"_blank\">The Wolf</a></div>,\n",
       " <div class=\"listalbum-item\"><a href=\"https://www.azlyrics.com//lyrics/shooterjennings/amatteroftime.html\" target=\"_blank\">A Matter Of Time</a></div>,\n",
       " <div class=\"listalbum-item\"><a href=\"https://www.azlyrics.com//lyrics/shooterjennings/wakeup.html\" target=\"_blank\">Wake Up!</a></div>,\n",
       " <div class=\"listalbum-item\"><a href=\"https://www.azlyrics.com//lyrics/shooterjennings/lastlightradio1101pm.html\" target=\"_blank\">Last Light Radio 11:01 PM</a></div>,\n",
       " <div class=\"listalbum-item\"><a href=\"https://www.azlyrics.com//lyrics/shooterjennings/triskaidekaphobia.html\" target=\"_blank\">Triskaidekaphobia</a></div>,\n",
       " <div class=\"listalbum-item\"><a href=\"https://www.azlyrics.com//lyrics/shooterjennings/dontfeedtheanimals.html\" target=\"_blank\">Don't Feed The Animals</a></div>,\n",
       " <div class=\"listalbum-item\"><a href=\"https://www.azlyrics.com//lyrics/shooterjennings/thebreakingpoint.html\" target=\"_blank\">The Breaking Point</a></div>,\n",
       " <div class=\"listalbum-item\"><a href=\"https://www.azlyrics.com//lyrics/shooterjennings/lastlightradio1116pm.html\" target=\"_blank\">Last Light Radio 11:16 PM</a></div>,\n",
       " <div class=\"listalbum-item\"><a href=\"https://www.azlyrics.com//lyrics/shooterjennings/godblessalabama.html\" target=\"_blank\">God Bless Alabama</a></div>,\n",
       " <div class=\"listalbum-item\"><a href=\"https://www.azlyrics.com//lyrics/shooterjennings/allofthiscouldhavebeenyours.html\" target=\"_blank\">All Of This Could Have Been Yours</a></div>,\n",
       " <div class=\"listalbum-item\"><a href=\"https://www.azlyrics.com//lyrics/shooterjennings/lastlightradio1129pm.html\" target=\"_blank\">Last Light Radio 11:29 PM</a></div>,\n",
       " <div class=\"listalbum-item\"><a href=\"https://www.azlyrics.com//lyrics/shooterjennings/fuckyouimfamous.html\" target=\"_blank\">Fuck You (I'm Famous)</a></div>,\n",
       " <div class=\"listalbum-item\"><a href=\"https://www.azlyrics.com//lyrics/shooterjennings/lightsinthesky.html\" target=\"_blank\">Lights In The Sky</a></div>,\n",
       " <div class=\"listalbum-item\"><a href=\"https://www.azlyrics.com//lyrics/shooterjennings/blackribbons.html\" target=\"_blank\">Black Ribbons</a></div>,\n",
       " <div class=\"listalbum-item\"><a href=\"https://www.azlyrics.com//lyrics/shooterjennings/lastlightradio1141pm.html\" target=\"_blank\">Last Light Radio 11:41 PM</a></div>,\n",
       " <div class=\"listalbum-item\"><a href=\"https://www.azlyrics.com//lyrics/shooterjennings/summerofrage.html\" target=\"_blank\">Summer Of Rage</a></div>,\n",
       " <div class=\"listalbum-item\"><a href=\"https://www.azlyrics.com//lyrics/shooterjennings/californiaviatennessee.html\" target=\"_blank\">California via Tennessee</a></div>,\n",
       " <div class=\"listalbum-item\"><a href=\"https://www.azlyrics.com//lyrics/shooterjennings/lastlightradio1157pm.html\" target=\"_blank\">Last Light Radio 11:57 PM</a></div>,\n",
       " <div class=\"listalbum-item\"><a href=\"https://www.azlyrics.com//lyrics/shooterjennings/whentheradiogoesdead.html\" target=\"_blank\">When The Radio Goes Dead</a></div>,\n",
       " <div class=\"listalbum-item\"><a href=\"https://www.azlyrics.com//lyrics/shooterjennings/allofthiscouldhavebeenyoursreprise.html\" target=\"_blank\">All Of This Could Have Been Yours (Reprise)</a></div>,\n",
       " <div class=\"listalbum-item\"><a href=\"https://www.azlyrics.com//lyrics/shooterjennings/therealme.html\" target=\"_blank\">The Real Me</a></div>,\n",
       " <div class=\"listalbum-item\"><a href=\"https://www.azlyrics.com//lyrics/shooterjennings/thelongroadahead.html\" target=\"_blank\">The Long Road Ahead</a></div>,\n",
       " <div class=\"listalbum-item\"><a href=\"https://www.azlyrics.com//lyrics/shooterjennings/thedeedandthedollar.html\" target=\"_blank\">The Deed And The Dollar</a></div>,\n",
       " <div class=\"listalbum-item\"><a href=\"https://www.azlyrics.com//lyrics/shooterjennings/manifestono4.html\" target=\"_blank\">Manifesto No. 4</a></div>,\n",
       " <div class=\"listalbum-item\"><a href=\"https://www.azlyrics.com//lyrics/shooterjennings/summerdreamsalssong.html\" target=\"_blank\">Summer Dreams (Al's Song)</a></div>,\n",
       " <div class=\"listalbum-item\"><a href=\"https://www.azlyrics.com//lyrics/shooterjennings/southernfamilyanthem.html\" target=\"_blank\">Southern Family Anthem</a></div>,\n",
       " <div class=\"listalbum-item\"><a href=\"https://www.azlyrics.com//lyrics/shooterjennings/daddyshands.html\" target=\"_blank\">Daddy's Hands</a></div>,\n",
       " <div class=\"listalbum-item\"><a href=\"https://www.azlyrics.com//lyrics/shooterjennings/theblackdog.html\" target=\"_blank\">The Black Dog</a></div>,\n",
       " <div class=\"listalbum-item\"><a href=\"https://www.azlyrics.com//lyrics/shooterjennings/thefamilytree.html\" target=\"_blank\">The Family Tree</a></div>,\n",
       " <div class=\"listalbum-item\"><a href=\"https://www.azlyrics.com//lyrics/shooterjennings/bornagain.html\" target=\"_blank\">Born Again</a></div>,\n",
       " <div class=\"listalbum-item\"><a href=\"https://www.azlyrics.com//lyrics/shooterjennings/theflyingsaucersong.html\" target=\"_blank\">The Flying Saucer Song</a></div>,\n",
       " <div class=\"listalbum-item\"><a href=\"https://www.azlyrics.com//lyrics/shooterjennings/ahardlessontolearn.html\" target=\"_blank\">A Hard Lesson To Learn</a></div>,\n",
       " <div class=\"listalbum-item\"><a href=\"https://www.azlyrics.com//lyrics/shooterjennings/thewhitetrashsong.html\" target=\"_blank\">The White Trash Song</a></div>,\n",
       " <div class=\"listalbum-item\"><a href=\"https://www.azlyrics.com//lyrics/shooterjennings/wildlonesome.html\" target=\"_blank\">Wild &amp; Lonesome</a></div>,\n",
       " <div class=\"listalbum-item\"><a href=\"https://www.azlyrics.com//lyrics/shooterjennings/outlawyou.html\" target=\"_blank\">Outlaw You</a></div>,\n",
       " <div class=\"listalbum-item\"><a href=\"https://www.azlyrics.com//lyrics/shooterjennings/theotherlife.html\" target=\"_blank\">The Other Life</a></div>,\n",
       " <div class=\"listalbum-item\"><a href=\"https://www.azlyrics.com//lyrics/shooterjennings/thelowroad.html\" target=\"_blank\">The Low Road</a></div>,\n",
       " <div class=\"listalbum-item\"><a href=\"https://www.azlyrics.com//lyrics/shooterjennings/mamaitsjustmymedicine.html\" target=\"_blank\">Mama, It's Just My Medicine</a></div>,\n",
       " <div class=\"listalbum-item\"><a href=\"https://www.azlyrics.com//lyrics/shooterjennings/theoutsider.html\" target=\"_blank\">The Outsider</a></div>,\n",
       " <div class=\"listalbum-item\"><a href=\"https://www.azlyrics.com//lyrics/shooterjennings/15millionlightyearsaway.html\" target=\"_blank\">15 Million Light-Years Away</a></div>,\n",
       " <div class=\"listalbum-item\"><a href=\"https://www.azlyrics.com//lyrics/shooterjennings/thegunslinger.html\" target=\"_blank\">The Gunslinger</a></div>,\n",
       " <div class=\"listalbum-item\"><a href=\"https://www.azlyrics.com//lyrics/shooterjennings/dontwaitupimplayingpossum.html\" target=\"_blank\">Don't Wait Up (I'm Playing Possum)</a></div>,\n",
       " <div class=\"listalbum-item\"><a href=\"https://www.azlyrics.com//lyrics/shooterjennings/livinginaminorkey404618.html\" target=\"_blank\">Living In A Minor Key</a></div>,\n",
       " <div class=\"listalbum-item\"><a href=\"https://www.azlyrics.com//lyrics/shooterjennings/shethinksistillcare.html\" target=\"_blank\">She Thinks I Still Care</a></div>,\n",
       " <div class=\"listalbum-item\"><a href=\"https://www.azlyrics.com//lyrics/shooterjennings/ifdrinkindontkillme.html\" target=\"_blank\">If Drinkin' Don't Kill Me</a></div>,\n",
       " <div class=\"listalbum-item\"><a href=\"https://www.azlyrics.com//lyrics/shooterjennings/thedoor.html\" target=\"_blank\">The Door</a></div>,\n",
       " <div class=\"listalbum-item\"><a href=\"https://www.azlyrics.com//lyrics/shooterjennings/loading.html\" target=\"_blank\">Loading</a></div>,\n",
       " <div class=\"listalbum-item\">Countach<div class=\"comment\">(Instrumental)</div></div>,\n",
       " <div class=\"listalbum-item\"><a href=\"https://www.azlyrics.com//lyrics/shooterjennings/fromheretoeternity.html\" target=\"_blank\">From Here To Eternity</a></div>,\n",
       " <div class=\"listalbum-item\"><a href=\"https://www.azlyrics.com//lyrics/shooterjennings/imleftyourerightshesgone.html\" target=\"_blank\">I'm Left, You're Right, She's Gone</a></div>,\n",
       " <div class=\"listalbum-item\"><a href=\"https://www.azlyrics.com//lyrics/shooterjennings/borntodie.html\" target=\"_blank\">Born To Die</a></div>,\n",
       " <div class=\"listalbum-item\"><a href=\"https://www.azlyrics.com//lyrics/shooterjennings/chase.html\" target=\"_blank\">Chase</a></div>,\n",
       " <div class=\"listalbum-item\"><a href=\"https://www.azlyrics.com//lyrics/shooterjennings/lovekills.html\" target=\"_blank\">Love Kills</a></div>,\n",
       " <div class=\"listalbum-item\"><a href=\"https://www.azlyrics.com//lyrics/shooterjennings/theneverendingstory.html\" target=\"_blank\">The Neverending Story</a></div>,\n",
       " <div class=\"listalbum-item\"><a href=\"https://www.azlyrics.com//lyrics/shooterjennings/catpeople.html\" target=\"_blank\">Cat People</a></div>,\n",
       " <div class=\"listalbum-item\"><a href=\"https://www.azlyrics.com//lyrics/shooterjennings/boundtagitdown.html\" target=\"_blank\">Bound Ta Git Down</a></div>,\n",
       " <div class=\"listalbum-item\"><a href=\"https://www.azlyrics.com//lyrics/shooterjennings/doyoulovetexas.html\" target=\"_blank\">Do You Love Texas?</a></div>,\n",
       " <div class=\"listalbum-item\"><a href=\"https://www.azlyrics.com//lyrics/shooterjennings/livinginaminorkey.html\" target=\"_blank\">Living In A Minor Key</a></div>,\n",
       " <div class=\"listalbum-item\"><a href=\"https://www.azlyrics.com//lyrics/shooterjennings/drunk.html\" target=\"_blank\">D.R.U.N.K.</a></div>,\n",
       " <div class=\"listalbum-item\"><a href=\"https://www.azlyrics.com//lyrics/shooterjennings/shadeshues.html\" target=\"_blank\">Shades &amp; Hues</a></div>,\n",
       " <div class=\"listalbum-item\"><a href=\"https://www.azlyrics.com//lyrics/shooterjennings/imwildmywomaniscrazy.html\" target=\"_blank\">I'm Wild &amp; My Woman Is Crazy</a></div>,\n",
       " <div class=\"listalbum-item\"><a href=\"https://www.azlyrics.com//lyrics/shooterjennings/fasthorsesgoodhideouts.html\" target=\"_blank\">Fast Horses &amp; Good Hideouts</a></div>,\n",
       " <div class=\"listalbum-item\"><a href=\"https://www.azlyrics.com//lyrics/shooterjennings/rhinestoneeyes.html\" target=\"_blank\">Rhinestone Eyes</a></div>,\n",
       " <div class=\"listalbum-item\"><a href=\"https://www.azlyrics.com//lyrics/shooterjennings/denimdiamonds.html\" target=\"_blank\">Denim &amp; Diamonds</a></div>,\n",
       " <div class=\"listalbum-item\"><a href=\"https://www.azlyrics.com/https://www.azlyrics.com/lyrics/yelawolf/sometimesy.html\" target=\"_blank\">Sometimes Y</a></div>,\n",
       " <div class=\"listalbum-item\"><a href=\"https://www.azlyrics.com/https://www.azlyrics.com/lyrics/yelawolf/holeinmyhead.html\" target=\"_blank\">Hole In My Head</a></div>,\n",
       " <div class=\"listalbum-item\"><a href=\"https://www.azlyrics.com/https://www.azlyrics.com/lyrics/yelawolf/rockrollbaby.html\" target=\"_blank\">Rock &amp; Roll Baby</a></div>,\n",
       " <div class=\"listalbum-item\"><a href=\"https://www.azlyrics.com/https://www.azlyrics.com/lyrics/yelawolf/makemeabeliever.html\" target=\"_blank\">Make Me A Believer</a></div>,\n",
       " <div class=\"listalbum-item\"><a href=\"https://www.azlyrics.com/https://www.azlyrics.com/lyrics/yelawolf/shoestring.html\" target=\"_blank\">Shoe String</a></div>,\n",
       " <div class=\"listalbum-item\"><a href=\"https://www.azlyrics.com/https://www.azlyrics.com/lyrics/yelawolf/radio1247284.html\" target=\"_blank\">Radio</a></div>,\n",
       " <div class=\"listalbum-item\"><a href=\"https://www.azlyrics.com/https://www.azlyrics.com/lyrics/yelawolf/jumpoutthewindow.html\" target=\"_blank\">Jump Out The Window</a></div>,\n",
       " <div class=\"listalbum-item\"><a href=\"https://www.azlyrics.com/https://www.azlyrics.com/lyrics/yelawolf/catchyouontheotherside.html\" target=\"_blank\">Catch You On The Other Side</a></div>,\n",
       " <div class=\"listalbum-item\"><a href=\"https://www.azlyrics.com/https://www.azlyrics.com/lyrics/yelawolf/fuckedupday.html\" target=\"_blank\">Fucked Up Day</a></div>,\n",
       " <div class=\"listalbum-item\"><a href=\"https://www.azlyrics.com/https://www.azlyrics.com/lyrics/yelawolf/moonshinersrun.html\" target=\"_blank\">Moonshiner's Run</a></div>,\n",
       " <div class=\"listalbum-item\"><a href=\"https://www.azlyrics.com//lyrics/shooterjennings/thelivingproof.html\" target=\"_blank\">(The) Living Proof</a></div>,\n",
       " <div class=\"listalbum-item\"><a href=\"https://www.azlyrics.com//lyrics/shooterjennings/genessong.html\" target=\"_blank\">Gene's Song</a></div>,\n",
       " <div class=\"listalbum-item\"><a href=\"https://www.azlyrics.com//lyrics/shooterjennings/leavethosememoriesalone.html\" target=\"_blank\">Leave Those Memories Alone</a></div>,\n",
       " <div class=\"listalbum-item\"><a href=\"https://www.azlyrics.com//lyrics/shooterjennings/maybecalifornia.html\" target=\"_blank\">Maybe California</a><div class=\"comment\">(from \"Highway Butterfly: The Songs of Neal Casal\" compilation)</div></div>]"
      ]
     },
     "execution_count": 6,
     "metadata": {},
     "output_type": "execute_result"
    }
   ],
   "source": [
    "songs"
   ]
  },
  {
   "cell_type": "code",
   "execution_count": 7,
   "id": "eb4b235a",
   "metadata": {},
   "outputs": [
    {
     "name": "stdout",
     "output_type": "stream",
     "text": [
      "['\"The Deed And The Dollar\"', '', '', '\\r', 'She got a special way', 'It makes me happy everyday', 'What do the old folks say', \"She's finer than frog hair split four ways\", '', \"When I'm feelin' low\", \"She reminds me that there's always tomorrow\", 'I kinda wonder if she knows', 'My sun comes up just to hear her crowe', '', \"She don't just own me\", 'She has grown me', \"In her secret garden deep in love's holler\", 'Wherever she goes', 'I know she knows', 'That I will always follow', \"She's got me chain and collar\", 'She owns the deed', 'She owns the dollar', '', \"We know we're a good match\", \"That's why at our hips, we're attached\", \"She's such a good catch\", 'Got me grinning like a goat', 'At a briar patch', '', 'She makes me feel just like a king', \"I'm always happy for what each day brings\", 'She never loses sight of the important things', \"But she's wild as a junebug on a string\", '', \"She don't just own me\", 'She has grown me', \"In her secret garden deep in love's holler\", 'Wherever she goes', 'I know she knows', 'That I will always follow', \"She's got me chain and collar\", 'She owns the deed', 'She owns the dollar', '', \"She don't just own me\", 'She has grown me', \"In her secret garden deep in love's holler\", 'Wherever she goes', 'Lord I know she knows', 'That I will always follow', \"She's got me chain and collar\", 'She owns the deed', 'She owns the dollar', '', 'Oh, she owns the deed', 'She owns the dollar', '', '', '', '', '', '', '', '', '', '', '', '', '', '', '', '', '', ' ']\n"
     ]
    }
   ],
   "source": [
    "# Choose a song randomly\n",
    "choose_random_song = random.choice(urls)['href']\n",
    "soup = bs(requests.get(choose_random_song).text, 'lxml')\n",
    "lyrics = soup.find(class_=\"col-xs-12 col-lg-8 text-center\")\n",
    "lyrics = lyrics.text.strip()\n",
    "\n",
    "# Removing spaces in between lines\n",
    "lyrics = lyrics[lyrics.find('\\n\\n\\n\\n')+5:lyrics.find('Submit Corrections')]\n",
    "lyrics = lyrics.split('\\n')\n",
    "        \n",
    "print(lyrics)"
   ]
  },
  {
   "cell_type": "code",
   "execution_count": null,
   "id": "e63c41d4",
   "metadata": {},
   "outputs": [],
   "source": []
  },
  {
   "cell_type": "code",
   "execution_count": null,
   "id": "6154e2b7",
   "metadata": {},
   "outputs": [],
   "source": []
  },
  {
   "cell_type": "code",
   "execution_count": null,
   "id": "a5c0aa81",
   "metadata": {},
   "outputs": [],
   "source": []
  },
  {
   "cell_type": "code",
   "execution_count": null,
   "id": "4598fb49",
   "metadata": {},
   "outputs": [],
   "source": []
  },
  {
   "cell_type": "code",
   "execution_count": null,
   "id": "b3d6dcf1",
   "metadata": {},
   "outputs": [],
   "source": []
  },
  {
   "cell_type": "code",
   "execution_count": null,
   "id": "82dadf97",
   "metadata": {},
   "outputs": [],
   "source": []
  },
  {
   "cell_type": "code",
   "execution_count": null,
   "id": "0401433a",
   "metadata": {},
   "outputs": [],
   "source": []
  },
  {
   "cell_type": "code",
   "execution_count": null,
   "id": "11ae994e",
   "metadata": {},
   "outputs": [],
   "source": []
  },
  {
   "cell_type": "code",
   "execution_count": null,
   "id": "000be1db",
   "metadata": {},
   "outputs": [],
   "source": []
  },
  {
   "cell_type": "code",
   "execution_count": null,
   "id": "f22190be",
   "metadata": {},
   "outputs": [],
   "source": []
  },
  {
   "cell_type": "code",
   "execution_count": null,
   "id": "ce225970",
   "metadata": {},
   "outputs": [],
   "source": []
  },
  {
   "cell_type": "code",
   "execution_count": null,
   "id": "8ca5ae2f",
   "metadata": {
    "scrolled": true
   },
   "outputs": [],
   "source": []
  },
  {
   "cell_type": "code",
   "execution_count": null,
   "id": "ee5a69a7",
   "metadata": {},
   "outputs": [],
   "source": []
  },
  {
   "cell_type": "code",
   "execution_count": null,
   "id": "ce02f0ff",
   "metadata": {},
   "outputs": [],
   "source": []
  },
  {
   "cell_type": "code",
   "execution_count": null,
   "id": "dafb20f4",
   "metadata": {},
   "outputs": [],
   "source": []
  },
  {
   "cell_type": "code",
   "execution_count": null,
   "id": "42320d59",
   "metadata": {},
   "outputs": [],
   "source": []
  },
  {
   "cell_type": "code",
   "execution_count": null,
   "id": "d8156f2f",
   "metadata": {},
   "outputs": [],
   "source": []
  },
  {
   "cell_type": "code",
   "execution_count": null,
   "id": "10349152",
   "metadata": {},
   "outputs": [],
   "source": []
  },
  {
   "cell_type": "code",
   "execution_count": null,
   "id": "78fc0e21",
   "metadata": {},
   "outputs": [],
   "source": []
  },
  {
   "cell_type": "code",
   "execution_count": null,
   "id": "ba332e3a",
   "metadata": {},
   "outputs": [],
   "source": []
  },
  {
   "cell_type": "code",
   "execution_count": null,
   "id": "74958b58",
   "metadata": {},
   "outputs": [],
   "source": []
  },
  {
   "cell_type": "code",
   "execution_count": null,
   "id": "d5223008",
   "metadata": {},
   "outputs": [],
   "source": []
  },
  {
   "cell_type": "code",
   "execution_count": null,
   "id": "a0680053",
   "metadata": {},
   "outputs": [],
   "source": []
  }
 ],
 "metadata": {
  "kernelspec": {
   "display_name": "Python 3 (ipykernel)",
   "language": "python",
   "name": "python3"
  },
  "language_info": {
   "codemirror_mode": {
    "name": "ipython",
    "version": 3
   },
   "file_extension": ".py",
   "mimetype": "text/x-python",
   "name": "python",
   "nbconvert_exporter": "python",
   "pygments_lexer": "ipython3",
   "version": "3.9.13"
  }
 },
 "nbformat": 4,
 "nbformat_minor": 5
}
