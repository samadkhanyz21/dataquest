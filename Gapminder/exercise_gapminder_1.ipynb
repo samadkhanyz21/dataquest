{
 "cells": [
  {
   "cell_type": "code",
   "execution_count": 1,
   "id": "fd7d32a0",
   "metadata": {},
   "outputs": [],
   "source": [
    "import pandas as pd\n",
    "import warnings\n",
    "warnings.filterwarnings('ignore')"
   ]
  },
  {
   "cell_type": "code",
   "execution_count": 21,
   "id": "6f702a37",
   "metadata": {},
   "outputs": [
    {
     "data": {
      "text/plain": [
       "1      31.94\n",
       "3      62.87\n",
       "4      47.50\n",
       "7      35.98\n",
       "9      62.97\n",
       "       ...  \n",
       "251    63.75\n",
       "254    32.64\n",
       "256    48.34\n",
       "257    53.11\n",
       "259    34.61\n",
       "Name: 1960, Length: 202, dtype: float64"
      ]
     },
     "execution_count": 21,
     "metadata": {},
     "output_type": "execute_result"
    }
   ],
   "source": [
    "life_exp = pd.read_excel('../data/gapminder_lifeexpectancy.xlsx')\n",
    "df = life_exp[1960].dropna()\n",
    "df"
   ]
  },
  {
   "cell_type": "code",
   "execution_count": 22,
   "id": "04b136ba",
   "metadata": {},
   "outputs": [
    {
     "data": {
      "text/plain": [
       "count    202.000000\n",
       "mean      54.732822\n",
       "std       11.689637\n",
       "min       29.610000\n",
       "25%       45.075000\n",
       "50%       56.185000\n",
       "75%       64.742500\n",
       "max       74.220000\n",
       "Name: 1960, dtype: float64"
      ]
     },
     "execution_count": 22,
     "metadata": {},
     "output_type": "execute_result"
    }
   ],
   "source": [
    "df.describe()"
   ]
  },
  {
   "cell_type": "code",
   "execution_count": 23,
   "id": "7dafa317",
   "metadata": {},
   "outputs": [
    {
     "data": {
      "text/plain": [
       "54.73"
      ]
     },
     "execution_count": 23,
     "metadata": {},
     "output_type": "execute_result"
    }
   ],
   "source": [
    "df.mean().round(2)"
   ]
  },
  {
   "cell_type": "code",
   "execution_count": 35,
   "id": "1591df1d",
   "metadata": {},
   "outputs": [
    {
     "data": {
      "text/plain": [
       "56.18"
      ]
     },
     "execution_count": 35,
     "metadata": {},
     "output_type": "execute_result"
    }
   ],
   "source": [
    "df.median().round(2)"
   ]
  },
  {
   "cell_type": "code",
   "execution_count": 33,
   "id": "ece4c6b3",
   "metadata": {},
   "outputs": [
    {
     "data": {
      "text/plain": [
       "11.69"
      ]
     },
     "execution_count": 33,
     "metadata": {},
     "output_type": "execute_result"
    }
   ],
   "source": [
    "df.std().round(2)"
   ]
  },
  {
   "cell_type": "code",
   "execution_count": 34,
   "id": "f81185f8",
   "metadata": {},
   "outputs": [
    {
     "data": {
      "text/plain": [
       "136.65"
      ]
     },
     "execution_count": 34,
     "metadata": {},
     "output_type": "execute_result"
    }
   ],
   "source": [
    "df.var().round(2)"
   ]
  },
  {
   "cell_type": "code",
   "execution_count": 27,
   "id": "128bf737",
   "metadata": {},
   "outputs": [
    {
     "data": {
      "text/plain": [
       "74.22"
      ]
     },
     "execution_count": 27,
     "metadata": {},
     "output_type": "execute_result"
    }
   ],
   "source": [
    "df.max()"
   ]
  },
  {
   "cell_type": "code",
   "execution_count": 28,
   "id": "c46745c3",
   "metadata": {},
   "outputs": [
    {
     "data": {
      "text/plain": [
       "29.61"
      ]
     },
     "execution_count": 28,
     "metadata": {},
     "output_type": "execute_result"
    }
   ],
   "source": [
    "df.min()"
   ]
  },
  {
   "cell_type": "code",
   "execution_count": 37,
   "id": "fdaf9cff",
   "metadata": {},
   "outputs": [
    {
     "data": {
      "text/plain": [
       "69.71"
      ]
     },
     "execution_count": 37,
     "metadata": {},
     "output_type": "execute_result"
    }
   ],
   "source": [
    "df.quantile(q=0.9).round(2)"
   ]
  },
  {
   "cell_type": "code",
   "execution_count": 31,
   "id": "bffe3695",
   "metadata": {},
   "outputs": [
    {
     "data": {
      "text/plain": [
       "58.91    2\n",
       "60.08    2\n",
       "31.94    1\n",
       "39.80    1\n",
       "65.60    1\n",
       "        ..\n",
       "60.59    1\n",
       "61.24    1\n",
       "46.51    1\n",
       "35.71    1\n",
       "34.61    1\n",
       "Name: 1960, Length: 200, dtype: int64"
      ]
     },
     "execution_count": 31,
     "metadata": {},
     "output_type": "execute_result"
    }
   ],
   "source": [
    "df_val_count = df.value_counts()\n",
    "df_val_count"
   ]
  },
  {
   "cell_type": "code",
   "execution_count": 32,
   "id": "8c889fb2",
   "metadata": {},
   "outputs": [
    {
     "data": {
      "text/plain": [
       "44.61"
      ]
     },
     "execution_count": 32,
     "metadata": {},
     "output_type": "execute_result"
    }
   ],
   "source": [
    "df_range = df.max() - df.min()\n",
    "df_range"
   ]
  }
 ],
 "metadata": {
  "kernelspec": {
   "display_name": "Python 3 (ipykernel)",
   "language": "python",
   "name": "python3"
  },
  "language_info": {
   "codemirror_mode": {
    "name": "ipython",
    "version": 3
   },
   "file_extension": ".py",
   "mimetype": "text/x-python",
   "name": "python",
   "nbconvert_exporter": "python",
   "pygments_lexer": "ipython3",
   "version": "3.10.8"
  }
 },
 "nbformat": 4,
 "nbformat_minor": 5
}
