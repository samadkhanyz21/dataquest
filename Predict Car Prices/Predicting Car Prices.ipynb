{
 "cells": [
  {
   "cell_type": "markdown",
   "id": "b0864945",
   "metadata": {},
   "source": [
    "In this project, fundamentals of machine learning using the k-nearest neighbors algorithm (KNN) will be explored.\n",
    "### Data Set Information\n",
    "This data set consists of three types of entities:\n",
    "<ol>\n",
    "    \n",
    "    a. The specification of an auto in terms of various characteristics.\n",
    "    b. Its assigned insurance risk rating. \n",
    "    c. Its normalized losses in use as compared to other cars. \n",
    "    \n",
    "</ol>\n",
    "\n",
    "The second rating corresponds to the degree to which the auto is more risky than its price indicates. Cars are initially assigned a risk factor symbol associated with its price. Then, if it is more risky (or less), this symbol is adjusted by moving it up (or down) the scale. Actuarians call this process **`symboling`**. A value of **`+3`** indicates that the auto is **`risky`**, **`-3`** that it is probably **`pretty safe`**.\n",
    "\n",
    "The third factor is the relative average loss payment per insured vehicle year. This value is normalized for all autos within a particular size classification (two-door small, station wagons, sports/speciality, etc...), and represents the average loss per car per year.\n",
    "\n",
    "The source of dataset is taken from [here](https://archive.ics.uci.edu/ml/datasets/automobile).\n",
    "### Data Set Attribute\n",
    "**`symboling`**: Referrence to the condition of the vehicles<br>.\n",
    "**`normalized-losses`**: continuous from 65 to 256.<br>\n",
    "**`make`**: Manufacturers info of the vehicles<br>\n",
    "\n",
    "<font color=green>Alfa-Romero, Audi, BMW, Chevrolet, Dodge, Honda, ISUZU, Jaguar, Mazda, Mercedes-Benz, Mercury, Mitsubishi, Nissan, Peugot, Plymouth, Porsche, Renault, Saab, Subaru, Toyota, Volkswagen, Volvo</font><br>\n",
    "\n",
    "**`fuel-type`**: diesel, gas.<br>\n",
    "**`aspiration`**: std, turbo.<br>\n",
    "**`num-of-doors`**: four, two.<br>\n",
    "**`body-style`**: hardtop, wagon, sedan, hatchback, convertible.<br>\n",
    "**`drive-wheels`**: 4wd, fwd, rwd.<br>\n",
    "**`engine-location`**: front, rear.<br>\n",
    "**`wheel-base`**: continuous from 86.6 120.9.<br>\n",
    "**`length`**: continuous from 141.1 to 208.1.<br>\n",
    "**`width`**: continuous from 60.3 to 72.3.<br>\n",
    "**`height`**: continuous from 47.8 to 59.8.<br>\n",
    "**`curb-weight`**: continuous from 1488 to 4066.<br>\n",
    "**`engine-type`**: dohc, dohcv, l, ohc, ohcf, ohcv, rotor.<br>\n",
    "**`num-of-cylinders`**: eight, five, four, six, three, twelve, two.<br>\n",
    "**`engine-size`**: continuous from 61 to 326.<br>\n",
    "**`fuel-system`**: 1bbl, 2bbl, 4bbl, idi, mfi, mpfi, spdi, spfi.<br>\n",
    "**`bore`**: continuous from 2.54 to 3.94.<br>\n",
    "**`stroke`**: continuous from 2.07 to 4.17.<br>\n",
    "**`compression-ratio`**: continuous from 7 to 23.<br>\n",
    "**`horsepower`**: continuous from 48 to 288.<br>\n",
    "**`peak-rpm`**: continuous from 4150 to 6600.<br>\n",
    "**`city-mpg`**: continuous from 13 to 49.<br>\n",
    "**`highway-mpg`**: continuous from 16 to 54.<br>\n",
    "**`price`**: continuous from 5118 to 45400.<br>"
   ]
  },
  {
   "cell_type": "code",
   "execution_count": 35,
   "id": "d569a90d",
   "metadata": {},
   "outputs": [],
   "source": [
    "import pandas as pd\n",
    "import numpy as np\n",
    "import seaborn as sns\n",
    "from sklearn.metrics import mean_squared_error\n",
    "from sklearn.neighbors import KNeighborsRegressor\n",
    "from sklearn.model_selection import KFold, cross_val_score, train_test_split\n",
    "import matplotlib.pyplot as plt\n",
    "%matplotlib inline"
   ]
  },
  {
   "cell_type": "markdown",
   "id": "f684a71d",
   "metadata": {},
   "source": [
    "### Reading Data Set"
   ]
  },
  {
   "cell_type": "code",
   "execution_count": 2,
   "id": "73501995",
   "metadata": {},
   "outputs": [
    {
     "data": {
      "text/html": [
       "<div>\n",
       "<style scoped>\n",
       "    .dataframe tbody tr th:only-of-type {\n",
       "        vertical-align: middle;\n",
       "    }\n",
       "\n",
       "    .dataframe tbody tr th {\n",
       "        vertical-align: top;\n",
       "    }\n",
       "\n",
       "    .dataframe thead th {\n",
       "        text-align: right;\n",
       "    }\n",
       "</style>\n",
       "<table border=\"1\" class=\"dataframe\">\n",
       "  <thead>\n",
       "    <tr style=\"text-align: right;\">\n",
       "      <th></th>\n",
       "      <th>3</th>\n",
       "      <th>?</th>\n",
       "      <th>alfa-romero</th>\n",
       "      <th>gas</th>\n",
       "      <th>std</th>\n",
       "      <th>two</th>\n",
       "      <th>convertible</th>\n",
       "      <th>rwd</th>\n",
       "      <th>front</th>\n",
       "      <th>88.60</th>\n",
       "      <th>168.80</th>\n",
       "      <th>64.10</th>\n",
       "      <th>48.80</th>\n",
       "      <th>2548</th>\n",
       "      <th>dohc</th>\n",
       "      <th>four</th>\n",
       "      <th>130</th>\n",
       "      <th>mpfi</th>\n",
       "      <th>3.47</th>\n",
       "      <th>2.68</th>\n",
       "      <th>9.00</th>\n",
       "      <th>111</th>\n",
       "      <th>5000</th>\n",
       "      <th>21</th>\n",
       "      <th>27</th>\n",
       "      <th>13495</th>\n",
       "    </tr>\n",
       "  </thead>\n",
       "  <tbody>\n",
       "    <tr>\n",
       "      <th>0</th>\n",
       "      <td>3</td>\n",
       "      <td>?</td>\n",
       "      <td>alfa-romero</td>\n",
       "      <td>gas</td>\n",
       "      <td>std</td>\n",
       "      <td>two</td>\n",
       "      <td>convertible</td>\n",
       "      <td>rwd</td>\n",
       "      <td>front</td>\n",
       "      <td>88.6</td>\n",
       "      <td>168.8</td>\n",
       "      <td>64.1</td>\n",
       "      <td>48.8</td>\n",
       "      <td>2548</td>\n",
       "      <td>dohc</td>\n",
       "      <td>four</td>\n",
       "      <td>130</td>\n",
       "      <td>mpfi</td>\n",
       "      <td>3.47</td>\n",
       "      <td>2.68</td>\n",
       "      <td>9.0</td>\n",
       "      <td>111</td>\n",
       "      <td>5000</td>\n",
       "      <td>21</td>\n",
       "      <td>27</td>\n",
       "      <td>16500</td>\n",
       "    </tr>\n",
       "    <tr>\n",
       "      <th>1</th>\n",
       "      <td>1</td>\n",
       "      <td>?</td>\n",
       "      <td>alfa-romero</td>\n",
       "      <td>gas</td>\n",
       "      <td>std</td>\n",
       "      <td>two</td>\n",
       "      <td>hatchback</td>\n",
       "      <td>rwd</td>\n",
       "      <td>front</td>\n",
       "      <td>94.5</td>\n",
       "      <td>171.2</td>\n",
       "      <td>65.5</td>\n",
       "      <td>52.4</td>\n",
       "      <td>2823</td>\n",
       "      <td>ohcv</td>\n",
       "      <td>six</td>\n",
       "      <td>152</td>\n",
       "      <td>mpfi</td>\n",
       "      <td>2.68</td>\n",
       "      <td>3.47</td>\n",
       "      <td>9.0</td>\n",
       "      <td>154</td>\n",
       "      <td>5000</td>\n",
       "      <td>19</td>\n",
       "      <td>26</td>\n",
       "      <td>16500</td>\n",
       "    </tr>\n",
       "    <tr>\n",
       "      <th>2</th>\n",
       "      <td>2</td>\n",
       "      <td>164</td>\n",
       "      <td>audi</td>\n",
       "      <td>gas</td>\n",
       "      <td>std</td>\n",
       "      <td>four</td>\n",
       "      <td>sedan</td>\n",
       "      <td>fwd</td>\n",
       "      <td>front</td>\n",
       "      <td>99.8</td>\n",
       "      <td>176.6</td>\n",
       "      <td>66.2</td>\n",
       "      <td>54.3</td>\n",
       "      <td>2337</td>\n",
       "      <td>ohc</td>\n",
       "      <td>four</td>\n",
       "      <td>109</td>\n",
       "      <td>mpfi</td>\n",
       "      <td>3.19</td>\n",
       "      <td>3.40</td>\n",
       "      <td>10.0</td>\n",
       "      <td>102</td>\n",
       "      <td>5500</td>\n",
       "      <td>24</td>\n",
       "      <td>30</td>\n",
       "      <td>13950</td>\n",
       "    </tr>\n",
       "  </tbody>\n",
       "</table>\n",
       "</div>"
      ],
      "text/plain": [
       "   3    ?  alfa-romero  gas  std   two  convertible  rwd  front  88.60  \\\n",
       "0  3    ?  alfa-romero  gas  std   two  convertible  rwd  front   88.6   \n",
       "1  1    ?  alfa-romero  gas  std   two    hatchback  rwd  front   94.5   \n",
       "2  2  164         audi  gas  std  four        sedan  fwd  front   99.8   \n",
       "\n",
       "   168.80  64.10  48.80  2548  dohc  four  130  mpfi  3.47  2.68  9.00  111  \\\n",
       "0   168.8   64.1   48.8  2548  dohc  four  130  mpfi  3.47  2.68   9.0  111   \n",
       "1   171.2   65.5   52.4  2823  ohcv   six  152  mpfi  2.68  3.47   9.0  154   \n",
       "2   176.6   66.2   54.3  2337   ohc  four  109  mpfi  3.19  3.40  10.0  102   \n",
       "\n",
       "   5000  21  27  13495  \n",
       "0  5000  21  27  16500  \n",
       "1  5000  19  26  16500  \n",
       "2  5500  24  30  13950  "
      ]
     },
     "execution_count": 2,
     "metadata": {},
     "output_type": "execute_result"
    }
   ],
   "source": [
    "cars = pd.read_csv(\"D:\\Data Science\\Projects\\Data Analysis\\ML Projects\\Predicting Car Prices_Project\\imports-85.data\")\n",
    "pd.options.display.max_columns = 50\n",
    "cars.head(3)"
   ]
  },
  {
   "cell_type": "code",
   "execution_count": 3,
   "id": "d8f02a70",
   "metadata": {},
   "outputs": [
    {
     "name": "stdout",
     "output_type": "stream",
     "text": [
      "Columns Imported: 26\n",
      "Rows Imported: 204\n"
     ]
    }
   ],
   "source": [
    "print('Columns Imported:',len(cars.columns))\n",
    "print('Rows Imported:',len(cars))"
   ]
  },
  {
   "cell_type": "code",
   "execution_count": 4,
   "id": "62d8cc95",
   "metadata": {},
   "outputs": [],
   "source": [
    "cars.columns = ['symboling', 'normalized_losses', 'make', 'fuel_type', 'aspiration', 'num_of_doors', \n",
    "                'body_style', 'drive_wheels', 'engine_location', 'wheel_base', 'length', 'width', \n",
    "                'height', 'curb_weight', 'engine_type', 'num_of_cylinders', 'engine_size', 'fuel_system', \n",
    "                'bore', 'stroke', 'compression_ratio', 'horse_power', 'rpm', 'city_mileage', \n",
    "                'highway_mileage', 'price']"
   ]
  },
  {
   "cell_type": "code",
   "execution_count": 5,
   "id": "b9b4f2ad",
   "metadata": {},
   "outputs": [
    {
     "data": {
      "text/html": [
       "<div>\n",
       "<style scoped>\n",
       "    .dataframe tbody tr th:only-of-type {\n",
       "        vertical-align: middle;\n",
       "    }\n",
       "\n",
       "    .dataframe tbody tr th {\n",
       "        vertical-align: top;\n",
       "    }\n",
       "\n",
       "    .dataframe thead th {\n",
       "        text-align: right;\n",
       "    }\n",
       "</style>\n",
       "<table border=\"1\" class=\"dataframe\">\n",
       "  <thead>\n",
       "    <tr style=\"text-align: right;\">\n",
       "      <th></th>\n",
       "      <th>symboling</th>\n",
       "      <th>normalized_losses</th>\n",
       "      <th>make</th>\n",
       "      <th>fuel_type</th>\n",
       "      <th>aspiration</th>\n",
       "      <th>num_of_doors</th>\n",
       "      <th>body_style</th>\n",
       "      <th>drive_wheels</th>\n",
       "      <th>engine_location</th>\n",
       "      <th>wheel_base</th>\n",
       "      <th>length</th>\n",
       "      <th>width</th>\n",
       "      <th>height</th>\n",
       "      <th>curb_weight</th>\n",
       "      <th>engine_type</th>\n",
       "      <th>num_of_cylinders</th>\n",
       "      <th>engine_size</th>\n",
       "      <th>fuel_system</th>\n",
       "      <th>bore</th>\n",
       "      <th>stroke</th>\n",
       "      <th>compression_ratio</th>\n",
       "      <th>horse_power</th>\n",
       "      <th>rpm</th>\n",
       "      <th>city_mileage</th>\n",
       "      <th>highway_mileage</th>\n",
       "      <th>price</th>\n",
       "    </tr>\n",
       "  </thead>\n",
       "  <tbody>\n",
       "    <tr>\n",
       "      <th>0</th>\n",
       "      <td>3</td>\n",
       "      <td>?</td>\n",
       "      <td>alfa-romero</td>\n",
       "      <td>gas</td>\n",
       "      <td>std</td>\n",
       "      <td>two</td>\n",
       "      <td>convertible</td>\n",
       "      <td>rwd</td>\n",
       "      <td>front</td>\n",
       "      <td>88.6</td>\n",
       "      <td>168.8</td>\n",
       "      <td>64.1</td>\n",
       "      <td>48.8</td>\n",
       "      <td>2548</td>\n",
       "      <td>dohc</td>\n",
       "      <td>four</td>\n",
       "      <td>130</td>\n",
       "      <td>mpfi</td>\n",
       "      <td>3.47</td>\n",
       "      <td>2.68</td>\n",
       "      <td>9.0</td>\n",
       "      <td>111</td>\n",
       "      <td>5000</td>\n",
       "      <td>21</td>\n",
       "      <td>27</td>\n",
       "      <td>16500</td>\n",
       "    </tr>\n",
       "    <tr>\n",
       "      <th>1</th>\n",
       "      <td>1</td>\n",
       "      <td>?</td>\n",
       "      <td>alfa-romero</td>\n",
       "      <td>gas</td>\n",
       "      <td>std</td>\n",
       "      <td>two</td>\n",
       "      <td>hatchback</td>\n",
       "      <td>rwd</td>\n",
       "      <td>front</td>\n",
       "      <td>94.5</td>\n",
       "      <td>171.2</td>\n",
       "      <td>65.5</td>\n",
       "      <td>52.4</td>\n",
       "      <td>2823</td>\n",
       "      <td>ohcv</td>\n",
       "      <td>six</td>\n",
       "      <td>152</td>\n",
       "      <td>mpfi</td>\n",
       "      <td>2.68</td>\n",
       "      <td>3.47</td>\n",
       "      <td>9.0</td>\n",
       "      <td>154</td>\n",
       "      <td>5000</td>\n",
       "      <td>19</td>\n",
       "      <td>26</td>\n",
       "      <td>16500</td>\n",
       "    </tr>\n",
       "    <tr>\n",
       "      <th>2</th>\n",
       "      <td>2</td>\n",
       "      <td>164</td>\n",
       "      <td>audi</td>\n",
       "      <td>gas</td>\n",
       "      <td>std</td>\n",
       "      <td>four</td>\n",
       "      <td>sedan</td>\n",
       "      <td>fwd</td>\n",
       "      <td>front</td>\n",
       "      <td>99.8</td>\n",
       "      <td>176.6</td>\n",
       "      <td>66.2</td>\n",
       "      <td>54.3</td>\n",
       "      <td>2337</td>\n",
       "      <td>ohc</td>\n",
       "      <td>four</td>\n",
       "      <td>109</td>\n",
       "      <td>mpfi</td>\n",
       "      <td>3.19</td>\n",
       "      <td>3.40</td>\n",
       "      <td>10.0</td>\n",
       "      <td>102</td>\n",
       "      <td>5500</td>\n",
       "      <td>24</td>\n",
       "      <td>30</td>\n",
       "      <td>13950</td>\n",
       "    </tr>\n",
       "  </tbody>\n",
       "</table>\n",
       "</div>"
      ],
      "text/plain": [
       "   symboling normalized_losses         make fuel_type aspiration num_of_doors  \\\n",
       "0          3                 ?  alfa-romero       gas        std          two   \n",
       "1          1                 ?  alfa-romero       gas        std          two   \n",
       "2          2               164         audi       gas        std         four   \n",
       "\n",
       "    body_style drive_wheels engine_location  wheel_base  length  width  \\\n",
       "0  convertible          rwd           front        88.6   168.8   64.1   \n",
       "1    hatchback          rwd           front        94.5   171.2   65.5   \n",
       "2        sedan          fwd           front        99.8   176.6   66.2   \n",
       "\n",
       "   height  curb_weight engine_type num_of_cylinders  engine_size fuel_system  \\\n",
       "0    48.8         2548        dohc             four          130        mpfi   \n",
       "1    52.4         2823        ohcv              six          152        mpfi   \n",
       "2    54.3         2337         ohc             four          109        mpfi   \n",
       "\n",
       "   bore stroke  compression_ratio horse_power   rpm  city_mileage  \\\n",
       "0  3.47   2.68                9.0         111  5000            21   \n",
       "1  2.68   3.47                9.0         154  5000            19   \n",
       "2  3.19   3.40               10.0         102  5500            24   \n",
       "\n",
       "   highway_mileage  price  \n",
       "0               27  16500  \n",
       "1               26  16500  \n",
       "2               30  13950  "
      ]
     },
     "execution_count": 5,
     "metadata": {},
     "output_type": "execute_result"
    }
   ],
   "source": [
    "cars.head(3)"
   ]
  },
  {
   "cell_type": "code",
   "execution_count": 6,
   "id": "36c32230",
   "metadata": {},
   "outputs": [
    {
     "data": {
      "text/html": [
       "<div>\n",
       "<style scoped>\n",
       "    .dataframe tbody tr th:only-of-type {\n",
       "        vertical-align: middle;\n",
       "    }\n",
       "\n",
       "    .dataframe tbody tr th {\n",
       "        vertical-align: top;\n",
       "    }\n",
       "\n",
       "    .dataframe thead th {\n",
       "        text-align: right;\n",
       "    }\n",
       "</style>\n",
       "<table border=\"1\" class=\"dataframe\">\n",
       "  <thead>\n",
       "    <tr style=\"text-align: right;\">\n",
       "      <th></th>\n",
       "      <th>normalized_losses</th>\n",
       "      <th>wheel_base</th>\n",
       "      <th>length</th>\n",
       "      <th>width</th>\n",
       "      <th>height</th>\n",
       "      <th>curb_weight</th>\n",
       "      <th>engine_size</th>\n",
       "      <th>bore</th>\n",
       "      <th>stroke</th>\n",
       "      <th>compression_ratio</th>\n",
       "      <th>horse_power</th>\n",
       "      <th>rpm</th>\n",
       "      <th>city_mileage</th>\n",
       "      <th>highway_mileage</th>\n",
       "      <th>price</th>\n",
       "    </tr>\n",
       "  </thead>\n",
       "  <tbody>\n",
       "    <tr>\n",
       "      <th>0</th>\n",
       "      <td>?</td>\n",
       "      <td>88.6</td>\n",
       "      <td>168.8</td>\n",
       "      <td>64.1</td>\n",
       "      <td>48.8</td>\n",
       "      <td>2548</td>\n",
       "      <td>130</td>\n",
       "      <td>3.47</td>\n",
       "      <td>2.68</td>\n",
       "      <td>9.0</td>\n",
       "      <td>111</td>\n",
       "      <td>5000</td>\n",
       "      <td>21</td>\n",
       "      <td>27</td>\n",
       "      <td>16500</td>\n",
       "    </tr>\n",
       "    <tr>\n",
       "      <th>1</th>\n",
       "      <td>?</td>\n",
       "      <td>94.5</td>\n",
       "      <td>171.2</td>\n",
       "      <td>65.5</td>\n",
       "      <td>52.4</td>\n",
       "      <td>2823</td>\n",
       "      <td>152</td>\n",
       "      <td>2.68</td>\n",
       "      <td>3.47</td>\n",
       "      <td>9.0</td>\n",
       "      <td>154</td>\n",
       "      <td>5000</td>\n",
       "      <td>19</td>\n",
       "      <td>26</td>\n",
       "      <td>16500</td>\n",
       "    </tr>\n",
       "    <tr>\n",
       "      <th>2</th>\n",
       "      <td>164</td>\n",
       "      <td>99.8</td>\n",
       "      <td>176.6</td>\n",
       "      <td>66.2</td>\n",
       "      <td>54.3</td>\n",
       "      <td>2337</td>\n",
       "      <td>109</td>\n",
       "      <td>3.19</td>\n",
       "      <td>3.40</td>\n",
       "      <td>10.0</td>\n",
       "      <td>102</td>\n",
       "      <td>5500</td>\n",
       "      <td>24</td>\n",
       "      <td>30</td>\n",
       "      <td>13950</td>\n",
       "    </tr>\n",
       "  </tbody>\n",
       "</table>\n",
       "</div>"
      ],
      "text/plain": [
       "  normalized_losses  wheel_base  length  width  height  curb_weight  \\\n",
       "0                 ?        88.6   168.8   64.1    48.8         2548   \n",
       "1                 ?        94.5   171.2   65.5    52.4         2823   \n",
       "2               164        99.8   176.6   66.2    54.3         2337   \n",
       "\n",
       "   engine_size  bore stroke  compression_ratio horse_power   rpm  \\\n",
       "0          130  3.47   2.68                9.0         111  5000   \n",
       "1          152  2.68   3.47                9.0         154  5000   \n",
       "2          109  3.19   3.40               10.0         102  5500   \n",
       "\n",
       "   city_mileage  highway_mileage  price  \n",
       "0            21               27  16500  \n",
       "1            19               26  16500  \n",
       "2            24               30  13950  "
      ]
     },
     "execution_count": 6,
     "metadata": {},
     "output_type": "execute_result"
    }
   ],
   "source": [
    "# Selecting only columns with numeric values.\n",
    "drop_columns = ['symboling', 'make', 'fuel_type', 'aspiration', 'num_of_doors', 'body_style', \n",
    "                'drive_wheels', 'engine_location', 'engine_type', 'num_of_cylinders', 'fuel_system']\n",
    "num_cars = cars.drop(drop_columns, axis= 1).copy()\n",
    "num_cars.head(3)"
   ]
  },
  {
   "cell_type": "markdown",
   "id": "eb966bfe",
   "metadata": {},
   "source": [
    "### Data Cleaning"
   ]
  },
  {
   "cell_type": "code",
   "execution_count": 7,
   "id": "64484439",
   "metadata": {},
   "outputs": [
    {
     "data": {
      "text/plain": [
       "normalized_losses    40\n",
       "wheel_base            0\n",
       "length                0\n",
       "width                 0\n",
       "height                0\n",
       "curb_weight           0\n",
       "engine_size           0\n",
       "bore                  4\n",
       "stroke                4\n",
       "compression_ratio     0\n",
       "horse_power           2\n",
       "rpm                   2\n",
       "city_mileage          0\n",
       "highway_mileage       0\n",
       "price                 4\n",
       "dtype: int64"
      ]
     },
     "execution_count": 7,
     "metadata": {},
     "output_type": "execute_result"
    }
   ],
   "source": [
    "num_cars.replace('?', np.nan, inplace= True)\n",
    "num_cars = num_cars.astype(float)\n",
    "num_cars.isnull().sum()"
   ]
  },
  {
   "cell_type": "markdown",
   "id": "f0ded12a",
   "metadata": {},
   "source": [
    "As we are predicting price of cars and there are only four missing values which will not affect our dataset as a whole in big picture."
   ]
  },
  {
   "cell_type": "code",
   "execution_count": 8,
   "id": "1e2d5f80",
   "metadata": {},
   "outputs": [
    {
     "data": {
      "text/plain": [
       "normalized_losses    0\n",
       "wheel_base           0\n",
       "length               0\n",
       "width                0\n",
       "height               0\n",
       "curb_weight          0\n",
       "engine_size          0\n",
       "bore                 0\n",
       "stroke               0\n",
       "compression_ratio    0\n",
       "horse_power          0\n",
       "rpm                  0\n",
       "city_mileage         0\n",
       "highway_mileage      0\n",
       "price                0\n",
       "dtype: int64"
      ]
     },
     "execution_count": 8,
     "metadata": {},
     "output_type": "execute_result"
    }
   ],
   "source": [
    "num_cars.dropna(subset= ['price'], inplace= True)\n",
    "num_cars = num_cars.fillna(num_cars.mean())\n",
    "num_cars.isnull().sum()"
   ]
  },
  {
   "cell_type": "code",
   "execution_count": 9,
   "id": "3a55a94a",
   "metadata": {},
   "outputs": [],
   "source": [
    "# Normalize all columnns to range from 0 to 1 except the target column.\n",
    "price_col = num_cars['price']\n",
    "num_cars = (num_cars - num_cars.min())/(num_cars.max() - num_cars.min())\n",
    "num_cars['price'] = price_col"
   ]
  },
  {
   "cell_type": "markdown",
   "id": "e5f1785b",
   "metadata": {},
   "source": [
    "### Feature Selection"
   ]
  },
  {
   "cell_type": "code",
   "execution_count": 58,
   "id": "aca2f990",
   "metadata": {},
   "outputs": [
    {
     "data": {
      "image/png": "[encoded data removed]",
      "text/plain": [
       "<Figure size 432x288 with 1 Axes>"
      ]
     },
     "metadata": {
      "needs_background": "light"
     },
     "output_type": "display_data"
    }
   ],
   "source": [
    "plt.scatter(num_cars['city_mileage'], num_cars['price'])\n",
    "plt.xlabel('City Mileage')\n",
    "plt.ylabel('Price')\n",
    "plt.show()"
   ]
  },
  {
   "cell_type": "code",
   "execution_count": 31,
   "id": "88a4949e",
   "metadata": {},
   "outputs": [
    {
     "data": {
      "image/png": "[encoded data removed]",
      "text/plain": [
       "<Figure size 432x288 with 1 Axes>"
      ]
     },
     "metadata": {
      "needs_background": "light"
     },
     "output_type": "display_data"
    }
   ],
   "source": [
    "plt.scatter(num_cars['highway_mileage'], num_cars['price'])\n",
    "plt.xlabel('Highway Mileage')\n",
    "plt.ylabel('Price')\n",
    "plt.show()"
   ]
  },
  {
   "cell_type": "code",
   "execution_count": 32,
   "id": "e4750a2c",
   "metadata": {},
   "outputs": [
    {
     "data": {
      "image/png": "[encoded data removed]",
      "text/plain": [
       "<Figure size 432x288 with 1 Axes>"
      ]
     },
     "metadata": {
      "needs_background": "light"
     },
     "output_type": "display_data"
    }
   ],
   "source": [
    "plt.scatter(num_cars['engine_size'], num_cars['price'])\n",
    "plt.xlabel('Engine Size')\n",
    "plt.ylabel('Price')\n",
    "plt.show()"
   ]
  },
  {
   "cell_type": "code",
   "execution_count": 33,
   "id": "1133c8f9",
   "metadata": {},
   "outputs": [
    {
     "data": {
      "image/png": "[encoded data removed]",
      "text/plain": [
       "<Figure size 432x288 with 1 Axes>"
      ]
     },
     "metadata": {
      "needs_background": "light"
     },
     "output_type": "display_data"
    }
   ],
   "source": [
    "plt.scatter(num_cars['horse_power'], num_cars['price'])\n",
    "plt.xlabel('Horsepower')\n",
    "plt.ylabel('Price')\n",
    "plt.show()"
   ]
  },
  {
   "cell_type": "code",
   "execution_count": 34,
   "id": "db85c509",
   "metadata": {},
   "outputs": [
    {
     "data": {
      "image/png": "[encoded data removed]",
      "text/plain": [
       "<Figure size 432x288 with 1 Axes>"
      ]
     },
     "metadata": {
      "needs_background": "light"
     },
     "output_type": "display_data"
    }
   ],
   "source": [
    "plt.scatter(num_cars['curb_weight'], num_cars['price'])\n",
    "plt.xlabel('Curb Weight')\n",
    "plt.ylabel('Price')\n",
    "plt.show()"
   ]
  },
  {
   "cell_type": "markdown",
   "id": "689027fd",
   "metadata": {},
   "source": [
    "### Training & Testing"
   ]
  },
  {
   "cell_type": "code",
   "execution_count": 42,
   "id": "5d052c84",
   "metadata": {},
   "outputs": [],
   "source": [
    "x = num_cars[['city_mileage', 'highway_mileage', 'engine_size', 'curb_weight', 'horse_power']]\n",
    "y = num_cars['price']\n",
    "\n",
    "#use random_state if want to use a fixed training set\n",
    "#x_train, x_test, y_train, y_test = train_test_split(x, y, test_size= 0.25, random_state= 10)\n",
    "x_train, x_test, y_train, y_test = train_test_split(x, y, test_size= 0.25)"
   ]
  },
  {
   "cell_type": "code",
   "execution_count": 40,
   "id": "5fa50f2f",
   "metadata": {},
   "outputs": [
    {
     "data": {
      "text/plain": [
       "150"
      ]
     },
     "execution_count": 40,
     "metadata": {},
     "output_type": "execute_result"
    }
   ],
   "source": [
    "len(x_train)"
   ]
  },
  {
   "cell_type": "code",
   "execution_count": 41,
   "id": "b61cd7db",
   "metadata": {},
   "outputs": [
    {
     "data": {
      "text/plain": [
       "50"
      ]
     },
     "execution_count": 41,
     "metadata": {},
     "output_type": "execute_result"
    }
   ],
   "source": [
    "len(x_test)"
   ]
  },
  {
   "cell_type": "code",
   "execution_count": 47,
   "id": "e2fe6abe",
   "metadata": {},
   "outputs": [
    {
     "data": {
      "text/html": [
       "<div>\n",
       "<style scoped>\n",
       "    .dataframe tbody tr th:only-of-type {\n",
       "        vertical-align: middle;\n",
       "    }\n",
       "\n",
       "    .dataframe tbody tr th {\n",
       "        vertical-align: top;\n",
       "    }\n",
       "\n",
       "    .dataframe thead th {\n",
       "        text-align: right;\n",
       "    }\n",
       "</style>\n",
       "<table border=\"1\" class=\"dataframe\">\n",
       "  <thead>\n",
       "    <tr style=\"text-align: right;\">\n",
       "      <th></th>\n",
       "      <th>city_mileage</th>\n",
       "      <th>highway_mileage</th>\n",
       "      <th>engine_size</th>\n",
       "      <th>curb_weight</th>\n",
       "      <th>horse_power</th>\n",
       "    </tr>\n",
       "  </thead>\n",
       "  <tbody>\n",
       "    <tr>\n",
       "      <th>124</th>\n",
       "      <td>0.166667</td>\n",
       "      <td>0.289474</td>\n",
       "      <td>0.339623</td>\n",
       "      <td>0.500388</td>\n",
       "      <td>0.443925</td>\n",
       "    </tr>\n",
       "    <tr>\n",
       "      <th>40</th>\n",
       "      <td>0.305556</td>\n",
       "      <td>0.315789</td>\n",
       "      <td>0.184906</td>\n",
       "      <td>0.378976</td>\n",
       "      <td>0.247664</td>\n",
       "    </tr>\n",
       "    <tr>\n",
       "      <th>68</th>\n",
       "      <td>0.250000</td>\n",
       "      <td>0.236842</td>\n",
       "      <td>0.460377</td>\n",
       "      <td>0.778510</td>\n",
       "      <td>0.350467</td>\n",
       "    </tr>\n",
       "    <tr>\n",
       "      <th>52</th>\n",
       "      <td>0.500000</td>\n",
       "      <td>0.578947</td>\n",
       "      <td>0.113208</td>\n",
       "      <td>0.177269</td>\n",
       "      <td>0.093458</td>\n",
       "    </tr>\n",
       "    <tr>\n",
       "      <th>19</th>\n",
       "      <td>0.694444</td>\n",
       "      <td>0.710526</td>\n",
       "      <td>0.109434</td>\n",
       "      <td>0.163305</td>\n",
       "      <td>0.102804</td>\n",
       "    </tr>\n",
       "    <tr>\n",
       "      <th>...</th>\n",
       "      <td>...</td>\n",
       "      <td>...</td>\n",
       "      <td>...</td>\n",
       "      <td>...</td>\n",
       "      <td>...</td>\n",
       "    </tr>\n",
       "    <tr>\n",
       "      <th>195</th>\n",
       "      <td>0.305556</td>\n",
       "      <td>0.315789</td>\n",
       "      <td>0.301887</td>\n",
       "      <td>0.561288</td>\n",
       "      <td>0.308411</td>\n",
       "    </tr>\n",
       "    <tr>\n",
       "      <th>2</th>\n",
       "      <td>0.305556</td>\n",
       "      <td>0.368421</td>\n",
       "      <td>0.181132</td>\n",
       "      <td>0.329325</td>\n",
       "      <td>0.252336</td>\n",
       "    </tr>\n",
       "    <tr>\n",
       "      <th>63</th>\n",
       "      <td>0.361111</td>\n",
       "      <td>0.421053</td>\n",
       "      <td>0.230189</td>\n",
       "      <td>0.363460</td>\n",
       "      <td>0.168224</td>\n",
       "    </tr>\n",
       "    <tr>\n",
       "      <th>171</th>\n",
       "      <td>0.305556</td>\n",
       "      <td>0.368421</td>\n",
       "      <td>0.320755</td>\n",
       "      <td>0.576804</td>\n",
       "      <td>0.317757</td>\n",
       "    </tr>\n",
       "    <tr>\n",
       "      <th>36</th>\n",
       "      <td>0.388889</td>\n",
       "      <td>0.447368</td>\n",
       "      <td>0.184906</td>\n",
       "      <td>0.290147</td>\n",
       "      <td>0.177570</td>\n",
       "    </tr>\n",
       "  </tbody>\n",
       "</table>\n",
       "<p>150 rows × 5 columns</p>\n",
       "</div>"
      ],
      "text/plain": [
       "     city_mileage  highway_mileage  engine_size  curb_weight  horse_power\n",
       "124      0.166667         0.289474     0.339623     0.500388     0.443925\n",
       "40       0.305556         0.315789     0.184906     0.378976     0.247664\n",
       "68       0.250000         0.236842     0.460377     0.778510     0.350467\n",
       "52       0.500000         0.578947     0.113208     0.177269     0.093458\n",
       "19       0.694444         0.710526     0.109434     0.163305     0.102804\n",
       "..            ...              ...          ...          ...          ...\n",
       "195      0.305556         0.315789     0.301887     0.561288     0.308411\n",
       "2        0.305556         0.368421     0.181132     0.329325     0.252336\n",
       "63       0.361111         0.421053     0.230189     0.363460     0.168224\n",
       "171      0.305556         0.368421     0.320755     0.576804     0.317757\n",
       "36       0.388889         0.447368     0.184906     0.290147     0.177570\n",
       "\n",
       "[150 rows x 5 columns]"
      ]
     },
     "execution_count": 47,
     "metadata": {},
     "output_type": "execute_result"
    }
   ],
   "source": [
    "# Everytime selects a shuffled training set depending on your test_size\n",
    "x_train"
   ]
  },
  {
   "cell_type": "code",
   "execution_count": 48,
   "id": "38dc6e7b",
   "metadata": {},
   "outputs": [
    {
     "data": {
      "text/plain": [
       "KNeighborsRegressor()"
      ]
     },
     "execution_count": 48,
     "metadata": {},
     "output_type": "execute_result"
    }
   ],
   "source": [
    "model = KNeighborsRegressor()\n",
    "# For training\n",
    "model.fit(x_train, y_train)"
   ]
  },
  {
   "cell_type": "code",
   "execution_count": 51,
   "id": "e5442385",
   "metadata": {},
   "outputs": [
    {
     "data": {
      "text/plain": [
       "array([ 6484.6,  9844.8,  8648.6,  5801.2,  9273.8,  9579.6,  9273.8,\n",
       "        7177. ,  9418.2, 37616.2, 31416. ,  6867.4,  8807.8,  7473.8,\n",
       "        9165. ,  5801.2, 37616.2,  7918.2,  7779. , 16040.8, 37616.2,\n",
       "       11136.4,  9404.2,  7944.8, 14317.2,  7718.8, 16040.8, 28245.8,\n",
       "        7590.8, 16040.8, 27202.6, 11578.4, 15080. , 23252.6, 18114. ,\n",
       "       15370.8, 15542. , 16940.8,  6587.4, 18477.6,  9484.8,  6587.4,\n",
       "       11979.2,  9943.6,  6612.6, 13255.8,  6587.4, 10953.8, 12376.6,\n",
       "       17081.4])"
      ]
     },
     "execution_count": 51,
     "metadata": {},
     "output_type": "execute_result"
    }
   ],
   "source": [
    "# For prediction\n",
    "prediction = model.predict(x_test)\n",
    "prediction"
   ]
  },
  {
   "cell_type": "code",
   "execution_count": 55,
   "id": "f4e1a5a3",
   "metadata": {
    "scrolled": true
   },
   "outputs": [
    {
     "data": {
      "text/plain": [
       "21      6377.0\n",
       "98      8949.0\n",
       "38      8845.0\n",
       "20      5572.0\n",
       "80      8499.0\n",
       "26      8558.0\n",
       "84      6989.0\n",
       "91      6849.0\n",
       "164     9298.0\n",
       "46     32250.0\n",
       "70     34184.0\n",
       "88      5499.0\n",
       "173    10698.0\n",
       "35      7295.0\n",
       "129     9295.0\n",
       "117     5572.0\n",
       "48     36000.0\n",
       "181     7775.0\n",
       "137     5118.0\n",
       "179    15690.0\n",
       "72     40960.0\n",
       "168     9989.0\n",
       "62     10795.0\n",
       "161     9258.0\n",
       "81     12629.0\n",
       "155     6938.0\n",
       "103    17199.0\n",
       "16     36880.0\n",
       "140     7126.0\n",
       "102    13499.0\n",
       "126    34028.0\n",
       "144    11259.0\n",
       "133    15040.0\n",
       "67     28248.0\n",
       "5      17710.0\n",
       "196    16515.0\n",
       "131    11850.0\n",
       "111    16900.0\n",
       "119     6229.0\n",
       "13     24565.0\n",
       "99      9549.0\n",
       "23      6229.0\n",
       "170    11549.0\n",
       "142     9960.0\n",
       "53      7395.0\n",
       "57     15645.0\n",
       "25      7609.0\n",
       "146    10198.0\n",
       "10     16925.0\n",
       "12     21105.0\n",
       "Name: price, dtype: float64"
      ]
     },
     "execution_count": 55,
     "metadata": {},
     "output_type": "execute_result"
    }
   ],
   "source": [
    "y_test"
   ]
  },
  {
   "cell_type": "code",
   "execution_count": 53,
   "id": "11d53df7",
   "metadata": {},
   "outputs": [
    {
     "data": {
      "text/plain": [
       "0.9251053358967571"
      ]
     },
     "execution_count": 53,
     "metadata": {},
     "output_type": "execute_result"
    }
   ],
   "source": [
    "# For checking accuracy of the model\n",
    "accuracy = model.score(x_test, y_test)\n",
    "accuracy"
   ]
  },
  {
   "cell_type": "code",
   "execution_count": null,
   "id": "e048fc1f",
   "metadata": {},
   "outputs": [],
   "source": []
  },
  {
   "cell_type": "code",
   "execution_count": null,
   "id": "fd5e8494",
   "metadata": {},
   "outputs": [],
   "source": []
  }
 ],
 "metadata": {
  "kernelspec": {
   "display_name": "Python 3 (ipykernel)",
   "language": "python",
   "name": "python3"
  },
  "language_info": {
   "codemirror_mode": {
    "name": "ipython",
    "version": 3
   },
   "file_extension": ".py",
   "mimetype": "text/x-python",
   "name": "python",
   "nbconvert_exporter": "python",
   "pygments_lexer": "ipython3",
   "version": "3.8.12"
  }
 },
 "nbformat": 4,
 "nbformat_minor": 5
}
