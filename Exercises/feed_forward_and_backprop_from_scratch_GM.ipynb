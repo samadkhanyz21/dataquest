{
 "cells": [
  {
   "cell_type": "markdown",
   "metadata": {},
   "source": [
    "# Feed-forward and backprop from scratch"
   ]
  },
  {
   "cell_type": "markdown",
   "metadata": {},
   "source": [
    "### Take-home messages\n",
    "\n",
    "* Non-linear activation functions in hidden layers are what makes neural networks as powerful as they are.\n",
    "* Shapes are very important! If something isn't working, check that shapes of your variables make sense.\n",
    "* Weights matrix for the layer N has dimensions (1 + # neurons in layer N, # neurons in layer N+1)\n",
    "* You can think of a (fully connected feed-forward) neural network as many interconnected logistic regressions.\n",
    "* Backprop is gradient descent on steroids.\n",
    "* Log loss is a good loss function (its value is small when our model is doing well, and large when we have a poor model)."
   ]
  },
  {
   "cell_type": "markdown",
   "metadata": {},
   "source": [
    "### Feed-forward"
   ]
  },
  {
   "cell_type": "markdown",
   "metadata": {},
   "source": [
    "<div>\n",
    "<img src=\"feedforward.png\" width=\"500\"/>\n",
    "</div>"
   ]
  },
  {
   "cell_type": "code",
   "execution_count": 15,
   "metadata": {},
   "outputs": [],
   "source": [
    "import matplotlib.pyplot as plt\n",
    "import numpy as np"
   ]
  },
  {
   "cell_type": "markdown",
   "metadata": {},
   "source": [
    "#### Step 1: Create training data"
   ]
  },
  {
   "cell_type": "code",
   "execution_count": 30,
   "metadata": {},
   "outputs": [],
   "source": [
    "from sklearn.datasets import make_moons"
   ]
  },
  {
   "cell_type": "code",
   "execution_count": 31,
   "metadata": {},
   "outputs": [],
   "source": [
    "X, y = make_moons(n_samples=50, noise=0.2, random_state=42)"
   ]
  },
  {
   "cell_type": "code",
   "execution_count": 32,
   "metadata": {},
   "outputs": [
    {
     "data": {
      "text/plain": [
       "(array([-0.15856989,  0.98480618]), 0)"
      ]
     },
     "execution_count": 32,
     "metadata": {},
     "output_type": "execute_result"
    }
   ],
   "source": [
    "X[0], y[0]"
   ]
  },
  {
   "cell_type": "markdown",
   "metadata": {},
   "source": [
    "#### Step 2: Take a look at the data"
   ]
  },
  {
   "cell_type": "code",
   "execution_count": 33,
   "metadata": {},
   "outputs": [
    {
     "data": {
      "text/plain": [
       "<matplotlib.collections.PathCollection at 0x7fa40239a340>"
      ]
     },
     "execution_count": 33,
     "metadata": {},
     "output_type": "execute_result"
    },
    {
     "data": {
      "image/png": "[encoded data removed]",
      "text/plain": [
       "<Figure size 432x288 with 1 Axes>"
      ]
     },
     "metadata": {
      "needs_background": "light"
     },
     "output_type": "display_data"
    }
   ],
   "source": [
    "plt.scatter(X[:,0], X[:,1], c=y)"
   ]
  },
  {
   "cell_type": "markdown",
   "metadata": {},
   "source": [
    "#### Step 3: Add a bias (parameter b) column to X"
   ]
  },
  {
   "cell_type": "code",
   "execution_count": 43,
   "metadata": {},
   "outputs": [],
   "source": [
    "def add_bias(X):\n",
    "    return np.hstack([X, np.ones((X.shape[0], 1))])"
   ]
  },
  {
   "cell_type": "code",
   "execution_count": 44,
   "metadata": {},
   "outputs": [],
   "source": [
    "X = add_bias(X)"
   ]
  },
  {
   "cell_type": "code",
   "execution_count": 45,
   "metadata": {},
   "outputs": [
    {
     "data": {
      "text/plain": [
       "(50, 3)"
      ]
     },
     "execution_count": 45,
     "metadata": {},
     "output_type": "execute_result"
    }
   ],
   "source": [
    "X.shape"
   ]
  },
  {
   "cell_type": "markdown",
   "metadata": {},
   "source": [
    "#### Step 4: calculate the sigmoid activation function\n",
    "\n",
    "$$ \\sigma(x) = \\frac{1}{1+e^{-x}} $$"
   ]
  },
  {
   "cell_type": "code",
   "execution_count": 46,
   "metadata": {},
   "outputs": [],
   "source": [
    "def sigmoid(x):\n",
    "    return 1/(1+np.exp(-x))"
   ]
  },
  {
   "cell_type": "code",
   "execution_count": 47,
   "metadata": {},
   "outputs": [],
   "source": [
    "a = np.array([-10.0, -1.0, 0.0, 1.0, 10.0])\n",
    "expected = np.array([0.0, 0.27, 0.5, 0.73, 1.0])\n",
    "assert np.all(sigmoid(a).round(2) == expected)"
   ]
  },
  {
   "cell_type": "markdown",
   "metadata": {},
   "source": [
    "#### Step 5: Initialize the weights"
   ]
  },
  {
   "cell_type": "code",
   "execution_count": 49,
   "metadata": {},
   "outputs": [],
   "source": [
    "n_neurons = 2 # number of neurons in the hidden layer"
   ]
  },
  {
   "cell_type": "code",
   "execution_count": 50,
   "metadata": {
    "tags": []
   },
   "outputs": [],
   "source": [
    "w = []\n",
    "w.append(np.random.randn(3, n_neurons)) # between innput and hidden\n",
    "w.append(np.random.randn(n_neurons+1, 1)) # between hidden and output"
   ]
  },
  {
   "cell_type": "markdown",
   "metadata": {},
   "source": [
    "#### Step 6: Put it all together"
   ]
  },
  {
   "cell_type": "code",
   "execution_count": 51,
   "metadata": {},
   "outputs": [],
   "source": [
    "def feed_forward(X, weights):\n",
    "\n",
    "    \"\"\"\n",
    "    1. Multiply the input matrix X (shape of (50, 3))\n",
    "       with the weights of the first layer (shape of (3, 2)),\n",
    "       resulting in the matrix of the shape (50, 2)\n",
    "    \"\"\"\n",
    "    step1 = np.dot(X, weights[0]) \n",
    "\n",
    "    \"\"\"    \n",
    "    2. Apply the sigmoid function on the result,\n",
    "       preserving the shape (50, 2) \n",
    "    \"\"\"\n",
    "    step2 = sigmoid(step1)\n",
    "    \n",
    "    \"\"\"    \n",
    "    3. Append an extra column of ones to the result (i.e. the bias),\n",
    "       resulting in the shape (50, 3)\n",
    "    \"\"\"\n",
    "    step3 = add_bias(step2)\n",
    "\n",
    "    \"\"\"    \n",
    "    4. Multiply the output of the previous step (shape of (50, 3))\n",
    "       with the weights of the second (i.e. outer) layer (shape of (3, 1)),\n",
    "       resulting in the shape (50, 1)\n",
    "    \"\"\"\n",
    "    step4 = np.dot(step3, weights[1])\n",
    "    \n",
    "    \"\"\"    \n",
    "    5. Apply the sigmoid function on the result, shape remains (50, 1)\n",
    "    \"\"\"\n",
    "    step5 = sigmoid(step4)\n",
    "    \n",
    "    \"\"\"    \n",
    "    6. Return all intermediate results (i.e. anything that\n",
    "       an activation function outputs).\n",
    "    \"\"\"\n",
    "\n",
    "    return step2, step5"
   ]
  },
  {
   "cell_type": "code",
   "execution_count": 52,
   "metadata": {},
   "outputs": [],
   "source": [
    "out1, out2 = feed_forward(X, w)\n",
    "assert out1.shape == (50, 2)\n",
    "assert out2.shape == (50, 1)\n",
    "\n",
    "Xref = np.array([[1.0, 2.0, 1.0]])\n",
    "whidden = np.array([[1.0, 2.0, 0.0],\n",
    "                 [-1.0, -2.0, 0.0]\n",
    "                    ]).T\n",
    "wout = np.array([[1.0, -1.0, 0.5]]).T\n",
    "\n",
    "out1, out2 = feed_forward(Xref, [whidden, wout])\n",
    "assert np.all(out1.round(2) == np.array([[0.99, 0.01]]))\n",
    "assert np.all(out2.round(2) == np.array([[0.82]]))"
   ]
  },
  {
   "cell_type": "markdown",
   "metadata": {},
   "source": [
    "### Backpropagation"
   ]
  },
  {
   "cell_type": "markdown",
   "metadata": {},
   "source": [
    "Brief gradient descent recap:\n",
    "\n",
    "* To find the optimal model we need:\n",
    "    * How well our model is doing — _loss function_\n",
    "    * How to get from a bad model to a good model — _optmization algorithm_\n",
    "* In linear regression:\n",
    "    * Loss function is _MSE_\n",
    "    * Optimization algorithm is _gradient descent_\n",
    "* Here:\n",
    "    * Loss function is _log loss_ (_binary cross-entropy_)\n",
    "    * Optimization algorithm is (basically) still gradient descent.\n",
    "* Gradient descent:\n",
    "    $$ w_{new} = w_{old} - \\alpha \\nabla L(w) $$"
   ]
  },
  {
   "cell_type": "markdown",
   "metadata": {},
   "source": [
    "<div>\n",
    "<img src=\"neuron_w_backprop.png\" width=\"500\"/>\n",
    "</div>"
   ]
  },
  {
   "cell_type": "markdown",
   "metadata": {},
   "source": [
    "**Let's talk about loss function!**"
   ]
  },
  {
   "cell_type": "markdown",
   "metadata": {},
   "source": [
    "* Here we'll use log loss as a loss function:\n",
    "$$ loss = -(y_{true} log(y_{pred}) + (1-y_{true}) log(1-y_{pred})) $$"
   ]
  },
  {
   "cell_type": "markdown",
   "metadata": {},
   "source": [
    "* Loss function tells us how our model is performing.\n",
    "* In the backprop step (or when training a model), this is what we're minimizing.\n",
    "* Here's how you can think of log loss:\n",
    "    * If our label ($y_{true}$) is 1: \n",
    "    $$ loss = -log(y_{pred}) $$\n",
    "        * If our prediction is close to zero, our model isn't doing very well. This is reflected in the loss function, because minus log of a small number is a \"large\" number.\n",
    "        * If our prediction is close to 1, we have a good model. Our loss function (minus log of a number close to 1) is a small number — that checks out!\n",
    "    * If our label is 0: \n",
    "    $$ loss = -log(1-y_{pred}) $$\n",
    "        * You can follow the same line of reasoning and do this part as an exercise.\n",
    "    "
   ]
  },
  {
   "cell_type": "markdown",
   "metadata": {},
   "source": [
    "#### Step 1: Run feed-forward and make sure it works"
   ]
  },
  {
   "cell_type": "markdown",
   "metadata": {},
   "source": [
    "Check!"
   ]
  },
  {
   "cell_type": "markdown",
   "metadata": {},
   "source": [
    "#### Step 2: Write a Loss Function"
   ]
  },
  {
   "cell_type": "markdown",
   "metadata": {},
   "source": [
    "##### 2a: Log-loss"
   ]
  },
  {
   "cell_type": "markdown",
   "metadata": {},
   "source": [
    "$$ loss = -(y_{true} log(y_{pred}) + (1-y_{true}) log(1-y_{pred})) $$"
   ]
  },
  {
   "cell_type": "code",
   "execution_count": 53,
   "metadata": {},
   "outputs": [],
   "source": [
    "def log_loss(ytrue, ypred):\n",
    "    loss = -(ytrue*np.log(ypred)+(1-ytrue)*np.log(1-ypred)) \n",
    "    return loss"
   ]
  },
  {
   "cell_type": "code",
   "execution_count": 54,
   "metadata": {},
   "outputs": [],
   "source": [
    "ytrue = np.array([0.0, 0.0, 1.0, 1.0])\n",
    "ypred = np.array([0.01, 0.99, 0.01, 0.99])\n",
    "expected = np.array([0.01, 4.61, 4.61, 0.01])\n",
    "assert np.all(log_loss(ytrue, ypred).round(2) == expected)"
   ]
  },
  {
   "cell_type": "markdown",
   "metadata": {},
   "source": [
    "##### 2b: Log-loss derivative"
   ]
  },
  {
   "cell_type": "markdown",
   "metadata": {},
   "source": [
    "$$ loss' = -(\\frac{y_{true}}{y_{pred}}-\\frac{1-y_{true}}{1-y_{pred}}) $$"
   ]
  },
  {
   "cell_type": "code",
   "execution_count": 55,
   "metadata": {},
   "outputs": [],
   "source": [
    "def log_loss_deriv(ytrue, ypred):\n",
    "    loss_deriv = -(ytrue/ypred - (1-ytrue)/(1-ypred))  \n",
    "    return loss_deriv"
   ]
  },
  {
   "cell_type": "code",
   "execution_count": 56,
   "metadata": {},
   "outputs": [],
   "source": [
    "a = np.array([0.5, 0.3, 0.99, 0.2])\n",
    "b = np.array([0.4, 0.2, 0.10, 0.3])\n",
    "expected = np.array([-0.42, -0.62, -9.89, 0.48])\n",
    "assert np.all(log_loss_deriv(a, b).round(2) == expected)"
   ]
  },
  {
   "cell_type": "markdown",
   "metadata": {},
   "source": [
    "##### Extra — 2c: Sigmoid derivative"
   ]
  },
  {
   "cell_type": "markdown",
   "metadata": {},
   "source": [
    "$$ \\sigma' = \\sigma (1-\\sigma) $$"
   ]
  },
  {
   "cell_type": "code",
   "execution_count": 57,
   "metadata": {},
   "outputs": [],
   "source": [
    "def sigmoid_deriv(X):\n",
    "    return sigmoid(X)*(1-sigmoid(X))"
   ]
  },
  {
   "cell_type": "markdown",
   "metadata": {},
   "source": [
    "#### Step 3: Calculate initial loss"
   ]
  },
  {
   "cell_type": "code",
   "execution_count": 59,
   "metadata": {},
   "outputs": [],
   "source": [
    "out1, out2 = feed_forward(X, w)\n",
    "ytrue = y.reshape(-1, 1)\n",
    "loss = log_loss(ytrue, out2) #which arrays do we need to compare?"
   ]
  },
  {
   "cell_type": "code",
   "execution_count": 61,
   "metadata": {
    "tags": []
   },
   "outputs": [
    {
     "data": {
      "text/plain": [
       "(50, 1)"
      ]
     },
     "execution_count": 61,
     "metadata": {},
     "output_type": "execute_result"
    }
   ],
   "source": [
    "loss.shape"
   ]
  },
  {
   "cell_type": "code",
   "execution_count": 62,
   "metadata": {
    "collapsed": true,
    "jupyter": {
     "outputs_hidden": true
    },
    "tags": []
   },
   "outputs": [
    {
     "name": "stdout",
     "output_type": "stream",
     "text": [
      "[0] [0.84553832] [1.86780925]\n",
      "[1] [0.88241412] [0.1250938]\n",
      "[1] [0.85726256] [0.15401104]\n",
      "[1] [0.92158827] [0.08165671]\n",
      "[0] [0.82264273] [1.72958908]\n",
      "[1] [0.92934256] [0.07327787]\n",
      "[1] [0.83977683] [0.1746191]\n",
      "[1] [0.82517634] [0.19215817]\n",
      "[1] [0.85073411] [0.16165564]\n",
      "[0] [0.81863791] [1.70725973]\n",
      "[0] [0.85644161] [1.94101343]\n",
      "[0] [0.89329017] [2.23764201]\n",
      "[1] [0.9056968] [0.09905068]\n",
      "[0] [0.8748026] [2.07786359]\n",
      "[0] [0.87471913] [2.07719708]\n",
      "[0] [0.85783329] [1.95075492]\n",
      "[1] [0.9089755] [0.09543714]\n",
      "[1] [0.92993529] [0.07264028]\n",
      "[1] [0.92956917] [0.07303405]\n",
      "[0] [0.83212135] [1.78451391]\n",
      "[0] [0.87947986] [2.11593842]\n",
      "[0] [0.84368501] [1.85588215]\n",
      "[0] [0.80001114] [1.60949364]\n",
      "[1] [0.86094223] [0.14972787]\n",
      "[1] [0.85191946] [0.16026329]\n",
      "[0] [0.8752417] [2.08137699]\n",
      "[1] [0.91688311] [0.08677528]\n",
      "[1] [0.84175859] [0.17226202]\n",
      "[1] [0.87861015] [0.129414]\n",
      "[0] [0.87734081] [2.09834558]\n",
      "[1] [0.85707403] [0.15423098]\n",
      "[0] [0.8742962] [2.0738269]\n",
      "[1] [0.87754603] [0.13062587]\n",
      "[0] [0.88052828] [2.12467556]\n",
      "[0] [0.80915566] [1.65629714]\n",
      "[0] [0.89783426] [2.28115891]\n",
      "[1] [0.90932593] [0.09505169]\n",
      "[1] [0.87139274] [0.13766249]\n",
      "[0] [0.80669653] [1.64349393]\n",
      "[1] [0.88955252] [0.11703672]\n",
      "[0] [0.85883819] [1.95784846]\n",
      "[0] [0.81177451] [1.6701146]\n",
      "[0] [0.82094461] [1.72006009]\n",
      "[1] [0.92959928] [0.07300167]\n",
      "[0] [0.81549555] [1.69008169]\n",
      "[0] [0.86624338] [2.01173336]\n",
      "[1] [0.92102268] [0.08227062]\n",
      "[0] [0.83880968] [1.82516949]\n",
      "[1] [0.84659412] [0.1665339]\n",
      "[1] [0.89554136] [0.11032687]\n"
     ]
    },
    {
     "data": {
      "text/plain": [
       "[None,\n",
       " None,\n",
       " None,\n",
       " None,\n",
       " None,\n",
       " None,\n",
       " None,\n",
       " None,\n",
       " None,\n",
       " None,\n",
       " None,\n",
       " None,\n",
       " None,\n",
       " None,\n",
       " None,\n",
       " None,\n",
       " None,\n",
       " None,\n",
       " None,\n",
       " None,\n",
       " None,\n",
       " None,\n",
       " None,\n",
       " None,\n",
       " None,\n",
       " None,\n",
       " None,\n",
       " None,\n",
       " None,\n",
       " None,\n",
       " None,\n",
       " None,\n",
       " None,\n",
       " None,\n",
       " None,\n",
       " None,\n",
       " None,\n",
       " None,\n",
       " None,\n",
       " None,\n",
       " None,\n",
       " None,\n",
       " None,\n",
       " None,\n",
       " None,\n",
       " None,\n",
       " None,\n",
       " None,\n",
       " None,\n",
       " None]"
      ]
     },
     "execution_count": 62,
     "metadata": {},
     "output_type": "execute_result"
    }
   ],
   "source": [
    "[print(a, b, c) for (a, b, c) in zip(ytrue, out2, loss)]"
   ]
  },
  {
   "cell_type": "markdown",
   "metadata": {},
   "source": [
    "#### Step 4: Write a backpropagation function"
   ]
  },
  {
   "cell_type": "markdown",
   "metadata": {},
   "source": [
    "<div>\n",
    "<img src=\"backprop_equations.png\" width=\"400\"/>\n",
    "</div>"
   ]
  },
  {
   "cell_type": "markdown",
   "metadata": {},
   "source": [
    "In the above we have: \n",
    "- $\\cdot$ is a **dot product**\n",
    "- $\\times$ is **regular multiplication**\n",
    "- $\\nabla$ is a **gradient**\n",
    "- $\\Delta$ is a **delta** or **change in**"
   ]
  },
  {
   "cell_type": "markdown",
   "metadata": {},
   "source": [
    "Fill in the blanks of the following function, which transcribes the equations from earlier (equations A - E) to run one iteration of the backpropagation algorithm. It takes in a handful of arguments:\n",
    "* the initial weights,\n",
    "* the outputs from the feed-forward process (i.e. both the hidden output and the final output),\n",
    "* the true labels,\n",
    "* the input data,\n",
    "* and the learning rates (we’ll have a separate learning rate for each layer of the network).\n",
    "\n",
    "The function (representing a single iteration of the backpropagation algorithm), should return the modified hidden weights and the modified outer weights."
   ]
  },
  {
   "cell_type": "code",
   "execution_count": null,
   "metadata": {
    "tags": []
   },
   "outputs": [],
   "source": [
    "def backprop(weights,\n",
    "             output1,\n",
    "             output2,\n",
    "             ytrue,\n",
    "             X_input,\n",
    "             LR):\n",
    "\n",
    "    wH = weights[0]\n",
    "    wO = weights[1]\n",
    "\n",
    "    '''EQUATION A:'''\n",
    "    error = log_loss_deriv(___ , ___)\n",
    "\n",
    "    '''EQUATION B:'''\n",
    "    # don't forget the bias!\n",
    "    hidden_out_with_bias = add_bias(___)\n",
    "    # derivative of the sigmoid function with respect to the\n",
    "    # hidden output * weights\n",
    "    sig_deriv_1 = sigmoid_deriv(___)\n",
    "\n",
    "    y_grad = sig_deriv_1 * error\n",
    "\n",
    "    '''EQUATION C:'''\n",
    "    delta_wo = -np.dot(___.T, hidden_out_with_bias) * LR\n",
    "\n",
    "    #and finally, old weights + delta weights -> new weights!\n",
    "    wO_new = wO + ___.T\n",
    "\n",
    "    '''EQUATION D:'''\n",
    "    sig_deriv_2 = sigmoid_deriv( ___ )\n",
    "    #exclude the bias (last column) of the outer weights,\n",
    "    #since it is not backpropagated!\n",
    "    H_grad = ___  * np.dot(y_grad , ___[:-1].T)\n",
    "\n",
    "    '''EQUATION E:'''\n",
    "    delta_wH = -np.___(H_grad.T, ___ ) * ___\n",
    "    #old weights + delta weights -> new weights!\n",
    "    wH_new = wH + ___.T\n",
    "\n",
    "    # new hidden weights, new output weights\n",
    "    return ___, ___"
   ]
  },
  {
   "cell_type": "code",
   "execution_count": 63,
   "metadata": {},
   "outputs": [],
   "source": [
    "def backprop(weights,\n",
    "             output1,\n",
    "             output2,\n",
    "             ytrue,\n",
    "             X_input,\n",
    "             LR):\n",
    "\n",
    "    wH = weights[0]\n",
    "    wO = weights[1]\n",
    "\n",
    "    '''EQUATION A:'''\n",
    "    error = log_loss_deriv(ytrue, output2)\n",
    "    \n",
    "    '''EQUATION B:'''\n",
    "    #don't forget the bias!\n",
    "    hidden_out_with_bias = add_bias(output1)\n",
    "    #derivative of the sigmoid function with respect to the\n",
    "    #hidden output * weights\n",
    "    sig_deriv_1 = sigmoid_deriv(hidden_out_with_bias.dot(wO))\n",
    "    y_grad = sig_deriv_1 * error\n",
    "\n",
    "    '''EQUATION C:'''\n",
    "    delta_wO = -np.dot(y_grad.T, hidden_out_with_bias) * LR\n",
    "\n",
    "    #and finally, old weights + delta weights -> new weights!\n",
    "    wO_new = wO + delta_wO.T\n",
    "\n",
    "    '''EQUATION D:'''\n",
    "    sig_deriv_2 = sigmoid_deriv(X_input.dot(wH))\n",
    "    #exclude the bias (last column) of the outer weights,\n",
    "    #since it is not backpropagated!\n",
    "    H_grad = sig_deriv_2 * np.dot(y_grad , wO[:-1].T)\n",
    "    \n",
    "    '''EQUATION E:'''\n",
    "    delta_wH = -np.dot(H_grad.T, X_input) * LR\n",
    "    #old weights + delta weights -> new weights!\n",
    "    wH_new = wH + delta_wH.T\n",
    "    \n",
    "    # new hidden weights, new output weights\n",
    "    return wH_new, wO_new"
   ]
  },
  {
   "cell_type": "markdown",
   "metadata": {},
   "source": [
    "#### Step 5: Run the Backpropagation Algorithm"
   ]
  },
  {
   "cell_type": "markdown",
   "metadata": {},
   "source": [
    "Run your backpropagation algorithm in a loop! Inside the loop:\n",
    "* Run your feed-forward function with the X data and the starting weights (which are initially random!).\n",
    "* Collect the total sum of the log-loss values into a list, so we can track them over time.\n",
    "* Run your backprop function to get the modified weights.\n",
    "* At the end of the loop, make your modified weights the new weights for the next cycle."
   ]
  },
  {
   "cell_type": "code",
   "execution_count": null,
   "metadata": {},
   "outputs": [],
   "source": [
    "# setup\n",
    "X, y = make_moons(n_samples=200, noise=0.1, random_state=42)\n",
    "X = add_bias(X)\n",
    "y = y.reshape(-1, 1)\n",
    "weights = [\n",
    "   np.random.normal(size=(3, 2)),\n",
    "   np.random.normal(size=(3, 1))\n",
    "]\n",
    "\n",
    "# train\n",
    "LOSS_VEC = []\n",
    "\n",
    "for i in range(1000):\n",
    "    out1, out2 = feed_forward(X, weights)\n",
    "    LOSS_VEC.append(___.sum())\n",
    "    new_weights = backprop(___, ___, ___, ___, ___, ___)\n",
    "    weights = ___"
   ]
  },
  {
   "cell_type": "code",
   "execution_count": 84,
   "metadata": {},
   "outputs": [],
   "source": [
    "# - increase the number of neurons to see how the performance of your NN changes\n",
    "# - change the value for learning rate in backprop to see how your model performance changes\n",
    "\n",
    "LR = 0.01\n",
    "n_neurons = 15\n",
    "X, y = make_moons(n_samples=200, noise=0.2, random_state=42)\n",
    "X = add_bias(X)\n",
    "y = y.reshape(-1, 1)\n",
    "weights = [\n",
    "   np.random.randn(3, n_neurons),\n",
    "   np.random.randn(n_neurons+1, 1)\n",
    "]\n",
    "\n",
    "# train\n",
    "LOSS_VEC = []\n",
    "\n",
    "for i in range(1000):\n",
    "    out1, out2 = feed_forward(X, weights)\n",
    "    LOSS_VEC.append(log_loss(y, out2).sum())\n",
    "    new_weights = backprop(weights, out1, out2, y, X, LR)\n",
    "    weights = new_weights"
   ]
  },
  {
   "cell_type": "markdown",
   "metadata": {},
   "source": [
    "#### Step 6: Plot results"
   ]
  },
  {
   "cell_type": "markdown",
   "metadata": {},
   "source": [
    "##### 6a: Plot loss function"
   ]
  },
  {
   "cell_type": "code",
   "execution_count": 85,
   "metadata": {},
   "outputs": [
    {
     "data": {
      "text/plain": [
       "[<matplotlib.lines.Line2D at 0x7fa420f68a60>]"
      ]
     },
     "execution_count": 85,
     "metadata": {},
     "output_type": "execute_result"
    },
    {
     "data": {
      "image/png": "[encoded data removed]",
      "text/plain": [
       "<Figure size 432x288 with 1 Axes>"
      ]
     },
     "metadata": {
      "needs_background": "light"
     },
     "output_type": "display_data"
    }
   ],
   "source": [
    "plt.plot(LOSS_VEC)"
   ]
  },
  {
   "cell_type": "markdown",
   "metadata": {},
   "source": [
    "How does the loss function sum change as we increase number of neurons:\n",
    "* 2 neurons: final loss (sum) is ~60.\n",
    "* 5 neurons: final loss (sum) is ~30.\n",
    "* 10 neurons: final loss (sum) is ~20.\n",
    "* 15 neurons: final loss (sum) is ~15."
   ]
  },
  {
   "cell_type": "markdown",
   "metadata": {},
   "source": [
    "##### 6b: Plot decision boundary"
   ]
  },
  {
   "cell_type": "code",
   "execution_count": 81,
   "metadata": {},
   "outputs": [],
   "source": [
    "# create a grid of values\n",
    "x = np.linspace(-3, 3, 200)\n",
    "X_vis = np.array([(x1, x2) for x1 in x for x2 in x])\n",
    "# add the bias column\n",
    "X_vis = add_bias(X_vis)\n",
    "\n",
    "# calculate the (random) predictions\n",
    "_, y_pred = feed_forward(X_vis, weights)"
   ]
  },
  {
   "cell_type": "code",
   "execution_count": 82,
   "metadata": {},
   "outputs": [],
   "source": [
    "# reshape the predictions for visualization\n",
    "Z = y_pred.reshape((len(x), len(x)), order='F')"
   ]
  },
  {
   "cell_type": "code",
   "execution_count": 83,
   "metadata": {},
   "outputs": [
    {
     "data": {
      "text/plain": [
       "<matplotlib.collections.PathCollection at 0x7fa3e09c7220>"
      ]
     },
     "execution_count": 83,
     "metadata": {},
     "output_type": "execute_result"
    },
    {
     "data": {
      "image/png": "[encoded data removed]",
      "text/plain": [
       "<Figure size 432x288 with 2 Axes>"
      ]
     },
     "metadata": {
      "needs_background": "light"
     },
     "output_type": "display_data"
    }
   ],
   "source": [
    "# draw a contour plot\n",
    "fig,ax=plt.subplots(1,1)\n",
    "cp = ax.contourf(x, x, Z, alpha=0.8, cmap='coolwarm')\n",
    "ax.contour(x, x, Z, levels=[0.5])\n",
    "fig.colorbar(cp) # Add a colorbar to a plot\n",
    "\n",
    "# draw the original data\n",
    "X, y = make_moons(n_samples=200, noise=0.1, random_state=42)\n",
    "ax.scatter(X[:,0], X[:,1], c=y, cmap='coolwarm')"
   ]
  },
  {
   "cell_type": "markdown",
   "metadata": {
    "jp-MarkdownHeadingCollapsed": true,
    "tags": []
   },
   "source": [
    "### Appendix. MATH"
   ]
  },
  {
   "cell_type": "markdown",
   "metadata": {},
   "source": [
    "#### Equation A. Calculate the derivative of the loss function\n",
    "\n",
    "\n",
    "$$error = loss'(ytrue, ypred)$$\n",
    "\n",
    "The error variable is in fact the derivative of the loss function.\n",
    "\n",
    "$$\\frac{\\partial L}{\\partial O_{out}} = -(\\frac{y}{ypred}-\\frac{1-y}{1-ypred})$$\n",
    "\n",
    "In gradient descent we calculated the gradient of the MSE to minimise it step by step. Backpropagation works with the same principle but in this case we are using the log loss as the loss function and calculating its derivative."
   ]
  },
  {
   "cell_type": "markdown",
   "metadata": {},
   "source": [
    "#### Equation B. Calculate the derivative of the activation function\n",
    "\n",
    "The derivative of the activation function will contribute to the gradient of the cost function.\n",
    "\n",
    "$$\\nabla y = act'(H_O \\cdot w_O) \\times error$$  \n",
    "\n",
    "It comes from the below usage of chain rule.\n",
    "\n",
    "$$ \\frac{\\partial L}{\\partial O_{in}} =\\frac{\\partial L}{\\partial O_{out}} \\cdot \\frac{\\partial O_{out}}{\\partial O_{in}} $$\n",
    "\n",
    "Where:\n",
    "\n",
    "$$\\frac{\\partial O_{out}}{\\partial O_{in}} = act'(O_{in}) = act'(H_O \\cdot w_O) $$"
   ]
  },
  {
   "cell_type": "markdown",
   "metadata": {},
   "source": [
    "#### Equation C. Calculate weight change between 2 layers\n",
    "\n",
    "The adjustment in the weights is proportional to the negative of the loss gradient. Recall: we multiply the negative of the loss gradient by some small constant that we call the **learning rate** to determine the step size.\n",
    "\n",
    "\n",
    "$$\\Delta{w_O} = -( \\frac{\\partial L}{\\partial O_{in}} \\cdot \\frac{\\partial O_{in}}{\\partial w_O}) \\times LR $$\n",
    "\n",
    "or\n",
    "\n",
    "$$\\Delta w_O = -(\\nabla y \\cdot H_{out}) \\times LR$$\n",
    "\n",
    "where \n",
    "\n",
    "$$H_{out}=\\frac{\\partial O_{in}}{\\partial w_O}$$\n",
    "\n",
    "The updated weights are and the next weight at this layer will be:\n",
    "\n",
    "$$ w_{new} = w_{old} + \\Delta w_O$$"
   ]
  },
  {
   "cell_type": "markdown",
   "metadata": {},
   "source": [
    "#### Equation D.\n",
    "\n",
    "Here we are repeating a similar process to step B for our first (hidden) layer with 2 neurons.\n",
    "\n",
    "So, we can write the full equation as:\n",
    "\n",
    "$$ \\frac{\\partial L}{\\partial H_{in}} = (\\frac{\\partial L}{\\partial O_{in}}\\cdot \\frac{\\partial O_{in}}{\\partial H_{out}}) \\times \\frac{\\partial H_{out}}{\\partial H_{in}} $$\n",
    "\n",
    "where \n",
    "\n",
    "$$\\frac{\\partial H_{out}}{\\partial H_{in}} = act'(X \\cdot w_H) $$\n",
    "\n",
    "and\n",
    "\n",
    "$$\\frac{\\partial O_{in}}{\\partial H_{out}} = w_O$$\n",
    "\n",
    "\n",
    "Final equation becomes:\n",
    "\n",
    "\n",
    "\n",
    "$$ \\frac{\\partial L}{\\partial H_{in}} = (\\frac{\\partial L}{\\partial O_{in}}  \\cdot w_O)\\times \\frac{\\partial H_{out}}{\\partial H_{in}} $$\n",
    "\n",
    "\n",
    "Or for our purposes:\n",
    "\n",
    "$$\\nabla H =  (\\nabla y \\cdot w_O) \\times act'(X \\cdot w_H)$$"
   ]
  },
  {
   "cell_type": "markdown",
   "metadata": {},
   "source": [
    "#### Equation E. Calculate change in the first set of weights\n",
    "\n",
    "Repeating step C for the first layer with 2 neurons.\n",
    "\n",
    "The adjustment in the weights is proportional to the negative of the loss gradient.\n",
    "\n",
    "$$\\Delta w_H = -(\\nabla H \\cdot X) \\times LR$$\n",
    "\n",
    "where\n",
    "\n",
    "$$\\frac{\\partial H_{in}}{\\partial w_H} = X$$\n",
    "\n",
    "The change in weights are \n",
    "\n",
    "$$\\Delta w_H = -( \\frac{\\partial L}{\\partial H_{in}} \\cdot X) \\times LR $$\n",
    "\n",
    "And the next weight at this layer will be:\n",
    "\n",
    "$$ w_{H_{new}} = w_H + \\Delta w_H$$"
   ]
  }
 ],
 "metadata": {
  "kernelspec": {
   "display_name": "Python 3 (ipykernel)",
   "language": "python",
   "name": "python3"
  },
  "language_info": {
   "codemirror_mode": {
    "name": "ipython",
    "version": 3
   },
   "file_extension": ".py",
   "mimetype": "text/x-python",
   "name": "python",
   "nbconvert_exporter": "python",
   "pygments_lexer": "ipython3",
   "version": "3.8.5"
  }
 },
 "nbformat": 4,
 "nbformat_minor": 4
}
